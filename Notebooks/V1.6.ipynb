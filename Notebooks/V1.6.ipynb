{
 "cells": [
  {
   "cell_type": "markdown",
   "metadata": {},
   "source": [
    "# IMPORTANDO BIBLIOTECAS"
   ]
  },
  {
   "cell_type": "code",
   "execution_count": 22,
   "metadata": {},
   "outputs": [],
   "source": [
    "# Importando bibliotecas necessárias\n",
    "import matplotlib.pyplot as plt \n",
    "import pandas as pd\n",
    "import seaborn as sns\n",
    "import plotly.express as px\n",
    "import plotly.figure_factory as ff\n",
    "from sklearn.compose import ColumnTransformer\n",
    "from sklearn.ensemble import (\n",
    "    AdaBoostClassifier,\n",
    "    GradientBoostingClassifier,\n",
    "    RandomForestClassifier,\n",
    ")\n",
    "\n",
    "from sklearn.metrics import (\n",
    "    precision_score,\n",
    "    recall_score,\n",
    "    f1_score,\n",
    "    accuracy_score\n",
    ")\n",
    "from sklearn.model_selection import train_test_split\n",
    "from sklearn.pipeline import Pipeline\n",
    "from sklearn.preprocessing import StandardScaler, OneHotEncoder\n",
    "from sklearn.tree import DecisionTreeClassifier\n",
    "from joblib import Parallel, delayed\n",
    "from sklearn.linear_model import LogisticRegression\n",
    "from sklearn.metrics import confusion_matrix"
   ]
  },
  {
   "cell_type": "markdown",
   "metadata": {},
   "source": [
    "# EXIBIÇÃO DOS DATAFRAMES"
   ]
  },
  {
   "cell_type": "code",
   "execution_count": 2,
   "metadata": {},
   "outputs": [],
   "source": [
    "# Configurando a exibição do dataframe\n",
    "pd.set_option('display.max_columns', None)\n",
    "pd.set_option('display.expand_frame_repr', False)\n",
    "pd.set_option('display.max_colwidth', None)\n",
    "pd.set_option('display.max_rows', 30)"
   ]
  },
  {
   "cell_type": "markdown",
   "metadata": {},
   "source": [
    "# LEITURA DOS ARQUIVOS"
   ]
  },
  {
   "cell_type": "code",
   "execution_count": 50,
   "metadata": {},
   "outputs": [],
   "source": [
    "# Lista com caminhos locais distintos\n",
    "diretorios_locais = [\n",
    "    r'C:\\Users\\brand\\OneDrive\\Área de Trabalho\\Fraud_Detection_ML\\Data\\\\',\n",
    "    r'C:\\Users\\Giovanni Maia\\Desktop\\Dados\\\\'\n",
    "]\n",
    "\n",
    "diretorio_github= 'https://media.githubusercontent.com/media/jeanbrandao01/Fraud_Detection_ML/dev/Data/'\n",
    "\n",
    "def carregar_dataframes(diretorios_locais, diretorio_github):\n",
    "    for diretorio_local in diretorios_locais:\n",
    "        try:\n",
    "            # Tente carregar o DataFrame de fraudTest.csv a partir do diretório local\n",
    "            df_test = pd.read_csv(diretorio_local + 'fraudTest.csv')\n",
    "\n",
    "            # Tente carregar o DataFrame de fraudTrain.csv a partir do diretório local\n",
    "            df_train = pd.read_csv(diretorio_local + 'fraudTrain.csv')\n",
    "\n",
    "            # Se o carregamento for bem-sucedido, retorne os DataFrames\n",
    "            return df_test, df_train\n",
    "        except FileNotFoundError:\n",
    "            continue  # Continue para o próximo diretório local em caso de erro\n",
    "\n",
    "    # Se nenhum diretório local contiver os arquivos, carregue do GitHub\n",
    "    url_test = diretorio_github + 'fraudTest.csv'\n",
    "    url_train = diretorio_github + 'fraudTrain.csv'\n",
    "\n",
    "    df_test = pd.read_csv(url_test)\n",
    "    df_train = pd.read_csv(url_train)\n",
    "\n",
    "    return df_test, df_train\n",
    "\n",
    "df_test, df_train = carregar_dataframes(diretorios_locais,diretorio_github)\n"
   ]
  },
  {
   "cell_type": "markdown",
   "metadata": {},
   "source": [
    "# EXIBIÇÃO DOS DATAFRAMES ORIGINAIS"
   ]
  },
  {
   "cell_type": "code",
   "execution_count": 24,
   "metadata": {},
   "outputs": [
    {
     "data": {
      "text/html": [
       "<div>\n",
       "<style scoped>\n",
       "    .dataframe tbody tr th:only-of-type {\n",
       "        vertical-align: middle;\n",
       "    }\n",
       "\n",
       "    .dataframe tbody tr th {\n",
       "        vertical-align: top;\n",
       "    }\n",
       "\n",
       "    .dataframe thead th {\n",
       "        text-align: right;\n",
       "    }\n",
       "</style>\n",
       "<table border=\"1\" class=\"dataframe\">\n",
       "  <thead>\n",
       "    <tr style=\"text-align: right;\">\n",
       "      <th></th>\n",
       "      <th>Unnamed: 0</th>\n",
       "      <th>trans_date_trans_time</th>\n",
       "      <th>cc_num</th>\n",
       "      <th>merchant</th>\n",
       "      <th>category</th>\n",
       "      <th>amt</th>\n",
       "      <th>first</th>\n",
       "      <th>last</th>\n",
       "      <th>gender</th>\n",
       "      <th>street</th>\n",
       "      <th>city</th>\n",
       "      <th>state</th>\n",
       "      <th>zip</th>\n",
       "      <th>lat</th>\n",
       "      <th>long</th>\n",
       "      <th>city_pop</th>\n",
       "      <th>job</th>\n",
       "      <th>dob</th>\n",
       "      <th>trans_num</th>\n",
       "      <th>unix_time</th>\n",
       "      <th>merch_lat</th>\n",
       "      <th>merch_long</th>\n",
       "      <th>is_fraud</th>\n",
       "    </tr>\n",
       "  </thead>\n",
       "  <tbody>\n",
       "    <tr>\n",
       "      <th>0</th>\n",
       "      <td>0</td>\n",
       "      <td>2020-06-21 12:14:25</td>\n",
       "      <td>2291163933867244</td>\n",
       "      <td>fraud_Kirlin and Sons</td>\n",
       "      <td>personal_care</td>\n",
       "      <td>2.86</td>\n",
       "      <td>Jeff</td>\n",
       "      <td>Elliott</td>\n",
       "      <td>M</td>\n",
       "      <td>351 Darlene Green</td>\n",
       "      <td>Columbia</td>\n",
       "      <td>SC</td>\n",
       "      <td>29209</td>\n",
       "      <td>33.9659</td>\n",
       "      <td>-80.9355</td>\n",
       "      <td>333497</td>\n",
       "      <td>Mechanical engineer</td>\n",
       "      <td>1968-03-19</td>\n",
       "      <td>2da90c7d74bd46a0caf3777415b3ebd3</td>\n",
       "      <td>1371816865</td>\n",
       "      <td>33.986391</td>\n",
       "      <td>-81.200714</td>\n",
       "      <td>0</td>\n",
       "    </tr>\n",
       "    <tr>\n",
       "      <th>1</th>\n",
       "      <td>1</td>\n",
       "      <td>2020-06-21 12:14:33</td>\n",
       "      <td>3573030041201292</td>\n",
       "      <td>fraud_Sporer-Keebler</td>\n",
       "      <td>personal_care</td>\n",
       "      <td>29.84</td>\n",
       "      <td>Joanne</td>\n",
       "      <td>Williams</td>\n",
       "      <td>F</td>\n",
       "      <td>3638 Marsh Union</td>\n",
       "      <td>Altonah</td>\n",
       "      <td>UT</td>\n",
       "      <td>84002</td>\n",
       "      <td>40.3207</td>\n",
       "      <td>-110.4360</td>\n",
       "      <td>302</td>\n",
       "      <td>Sales professional, IT</td>\n",
       "      <td>1990-01-17</td>\n",
       "      <td>324cc204407e99f51b0d6ca0055005e7</td>\n",
       "      <td>1371816873</td>\n",
       "      <td>39.450498</td>\n",
       "      <td>-109.960431</td>\n",
       "      <td>0</td>\n",
       "    </tr>\n",
       "    <tr>\n",
       "      <th>2</th>\n",
       "      <td>2</td>\n",
       "      <td>2020-06-21 12:14:53</td>\n",
       "      <td>3598215285024754</td>\n",
       "      <td>fraud_Swaniawski, Nitzsche and Welch</td>\n",
       "      <td>health_fitness</td>\n",
       "      <td>41.28</td>\n",
       "      <td>Ashley</td>\n",
       "      <td>Lopez</td>\n",
       "      <td>F</td>\n",
       "      <td>9333 Valentine Point</td>\n",
       "      <td>Bellmore</td>\n",
       "      <td>NY</td>\n",
       "      <td>11710</td>\n",
       "      <td>40.6729</td>\n",
       "      <td>-73.5365</td>\n",
       "      <td>34496</td>\n",
       "      <td>Librarian, public</td>\n",
       "      <td>1970-10-21</td>\n",
       "      <td>c81755dbbbea9d5c77f094348a7579be</td>\n",
       "      <td>1371816893</td>\n",
       "      <td>40.495810</td>\n",
       "      <td>-74.196111</td>\n",
       "      <td>0</td>\n",
       "    </tr>\n",
       "    <tr>\n",
       "      <th>3</th>\n",
       "      <td>3</td>\n",
       "      <td>2020-06-21 12:15:15</td>\n",
       "      <td>3591919803438423</td>\n",
       "      <td>fraud_Haley Group</td>\n",
       "      <td>misc_pos</td>\n",
       "      <td>60.05</td>\n",
       "      <td>Brian</td>\n",
       "      <td>Williams</td>\n",
       "      <td>M</td>\n",
       "      <td>32941 Krystal Mill Apt. 552</td>\n",
       "      <td>Titusville</td>\n",
       "      <td>FL</td>\n",
       "      <td>32780</td>\n",
       "      <td>28.5697</td>\n",
       "      <td>-80.8191</td>\n",
       "      <td>54767</td>\n",
       "      <td>Set designer</td>\n",
       "      <td>1987-07-25</td>\n",
       "      <td>2159175b9efe66dc301f149d3d5abf8c</td>\n",
       "      <td>1371816915</td>\n",
       "      <td>28.812398</td>\n",
       "      <td>-80.883061</td>\n",
       "      <td>0</td>\n",
       "    </tr>\n",
       "    <tr>\n",
       "      <th>4</th>\n",
       "      <td>4</td>\n",
       "      <td>2020-06-21 12:15:17</td>\n",
       "      <td>3526826139003047</td>\n",
       "      <td>fraud_Johnston-Casper</td>\n",
       "      <td>travel</td>\n",
       "      <td>3.19</td>\n",
       "      <td>Nathan</td>\n",
       "      <td>Massey</td>\n",
       "      <td>M</td>\n",
       "      <td>5783 Evan Roads Apt. 465</td>\n",
       "      <td>Falmouth</td>\n",
       "      <td>MI</td>\n",
       "      <td>49632</td>\n",
       "      <td>44.2529</td>\n",
       "      <td>-85.0170</td>\n",
       "      <td>1126</td>\n",
       "      <td>Furniture designer</td>\n",
       "      <td>1955-07-06</td>\n",
       "      <td>57ff021bd3f328f8738bb535c302a31b</td>\n",
       "      <td>1371816917</td>\n",
       "      <td>44.959148</td>\n",
       "      <td>-85.884734</td>\n",
       "      <td>0</td>\n",
       "    </tr>\n",
       "  </tbody>\n",
       "</table>\n",
       "</div>"
      ],
      "text/plain": [
       "   Unnamed: 0 trans_date_trans_time            cc_num                              merchant        category    amt   first      last gender                       street        city state    zip      lat      long  city_pop                     job         dob                         trans_num   unix_time  merch_lat  merch_long  is_fraud\n",
       "0           0   2020-06-21 12:14:25  2291163933867244                 fraud_Kirlin and Sons   personal_care   2.86    Jeff   Elliott      M            351 Darlene Green    Columbia    SC  29209  33.9659  -80.9355    333497     Mechanical engineer  1968-03-19  2da90c7d74bd46a0caf3777415b3ebd3  1371816865  33.986391  -81.200714         0\n",
       "1           1   2020-06-21 12:14:33  3573030041201292                  fraud_Sporer-Keebler   personal_care  29.84  Joanne  Williams      F             3638 Marsh Union     Altonah    UT  84002  40.3207 -110.4360       302  Sales professional, IT  1990-01-17  324cc204407e99f51b0d6ca0055005e7  1371816873  39.450498 -109.960431         0\n",
       "2           2   2020-06-21 12:14:53  3598215285024754  fraud_Swaniawski, Nitzsche and Welch  health_fitness  41.28  Ashley     Lopez      F         9333 Valentine Point    Bellmore    NY  11710  40.6729  -73.5365     34496       Librarian, public  1970-10-21  c81755dbbbea9d5c77f094348a7579be  1371816893  40.495810  -74.196111         0\n",
       "3           3   2020-06-21 12:15:15  3591919803438423                     fraud_Haley Group        misc_pos  60.05   Brian  Williams      M  32941 Krystal Mill Apt. 552  Titusville    FL  32780  28.5697  -80.8191     54767            Set designer  1987-07-25  2159175b9efe66dc301f149d3d5abf8c  1371816915  28.812398  -80.883061         0\n",
       "4           4   2020-06-21 12:15:17  3526826139003047                 fraud_Johnston-Casper          travel   3.19  Nathan    Massey      M     5783 Evan Roads Apt. 465    Falmouth    MI  49632  44.2529  -85.0170      1126      Furniture designer  1955-07-06  57ff021bd3f328f8738bb535c302a31b  1371816917  44.959148  -85.884734         0"
      ]
     },
     "execution_count": 24,
     "metadata": {},
     "output_type": "execute_result"
    }
   ],
   "source": [
    "# Dataframe \"fraudTest.csv\"\n",
    "df_test.head()"
   ]
  },
  {
   "cell_type": "code",
   "execution_count": 25,
   "metadata": {},
   "outputs": [
    {
     "data": {
      "text/html": [
       "<div>\n",
       "<style scoped>\n",
       "    .dataframe tbody tr th:only-of-type {\n",
       "        vertical-align: middle;\n",
       "    }\n",
       "\n",
       "    .dataframe tbody tr th {\n",
       "        vertical-align: top;\n",
       "    }\n",
       "\n",
       "    .dataframe thead th {\n",
       "        text-align: right;\n",
       "    }\n",
       "</style>\n",
       "<table border=\"1\" class=\"dataframe\">\n",
       "  <thead>\n",
       "    <tr style=\"text-align: right;\">\n",
       "      <th></th>\n",
       "      <th>Unnamed: 0</th>\n",
       "      <th>trans_date_trans_time</th>\n",
       "      <th>cc_num</th>\n",
       "      <th>merchant</th>\n",
       "      <th>category</th>\n",
       "      <th>amt</th>\n",
       "      <th>first</th>\n",
       "      <th>last</th>\n",
       "      <th>gender</th>\n",
       "      <th>street</th>\n",
       "      <th>city</th>\n",
       "      <th>state</th>\n",
       "      <th>zip</th>\n",
       "      <th>lat</th>\n",
       "      <th>long</th>\n",
       "      <th>city_pop</th>\n",
       "      <th>job</th>\n",
       "      <th>dob</th>\n",
       "      <th>trans_num</th>\n",
       "      <th>unix_time</th>\n",
       "      <th>merch_lat</th>\n",
       "      <th>merch_long</th>\n",
       "      <th>is_fraud</th>\n",
       "    </tr>\n",
       "  </thead>\n",
       "  <tbody>\n",
       "    <tr>\n",
       "      <th>0</th>\n",
       "      <td>0</td>\n",
       "      <td>2019-01-01 00:00:18</td>\n",
       "      <td>2703186189652095</td>\n",
       "      <td>fraud_Rippin, Kub and Mann</td>\n",
       "      <td>misc_net</td>\n",
       "      <td>4.97</td>\n",
       "      <td>Jennifer</td>\n",
       "      <td>Banks</td>\n",
       "      <td>F</td>\n",
       "      <td>561 Perry Cove</td>\n",
       "      <td>Moravian Falls</td>\n",
       "      <td>NC</td>\n",
       "      <td>28654</td>\n",
       "      <td>36.0788</td>\n",
       "      <td>-81.1781</td>\n",
       "      <td>3495</td>\n",
       "      <td>Psychologist, counselling</td>\n",
       "      <td>1988-03-09</td>\n",
       "      <td>0b242abb623afc578575680df30655b9</td>\n",
       "      <td>1325376018</td>\n",
       "      <td>36.011293</td>\n",
       "      <td>-82.048315</td>\n",
       "      <td>0</td>\n",
       "    </tr>\n",
       "    <tr>\n",
       "      <th>1</th>\n",
       "      <td>1</td>\n",
       "      <td>2019-01-01 00:00:44</td>\n",
       "      <td>630423337322</td>\n",
       "      <td>fraud_Heller, Gutmann and Zieme</td>\n",
       "      <td>grocery_pos</td>\n",
       "      <td>107.23</td>\n",
       "      <td>Stephanie</td>\n",
       "      <td>Gill</td>\n",
       "      <td>F</td>\n",
       "      <td>43039 Riley Greens Suite 393</td>\n",
       "      <td>Orient</td>\n",
       "      <td>WA</td>\n",
       "      <td>99160</td>\n",
       "      <td>48.8878</td>\n",
       "      <td>-118.2105</td>\n",
       "      <td>149</td>\n",
       "      <td>Special educational needs teacher</td>\n",
       "      <td>1978-06-21</td>\n",
       "      <td>1f76529f8574734946361c461b024d99</td>\n",
       "      <td>1325376044</td>\n",
       "      <td>49.159047</td>\n",
       "      <td>-118.186462</td>\n",
       "      <td>0</td>\n",
       "    </tr>\n",
       "    <tr>\n",
       "      <th>2</th>\n",
       "      <td>2</td>\n",
       "      <td>2019-01-01 00:00:51</td>\n",
       "      <td>38859492057661</td>\n",
       "      <td>fraud_Lind-Buckridge</td>\n",
       "      <td>entertainment</td>\n",
       "      <td>220.11</td>\n",
       "      <td>Edward</td>\n",
       "      <td>Sanchez</td>\n",
       "      <td>M</td>\n",
       "      <td>594 White Dale Suite 530</td>\n",
       "      <td>Malad City</td>\n",
       "      <td>ID</td>\n",
       "      <td>83252</td>\n",
       "      <td>42.1808</td>\n",
       "      <td>-112.2620</td>\n",
       "      <td>4154</td>\n",
       "      <td>Nature conservation officer</td>\n",
       "      <td>1962-01-19</td>\n",
       "      <td>a1a22d70485983eac12b5b88dad1cf95</td>\n",
       "      <td>1325376051</td>\n",
       "      <td>43.150704</td>\n",
       "      <td>-112.154481</td>\n",
       "      <td>0</td>\n",
       "    </tr>\n",
       "    <tr>\n",
       "      <th>3</th>\n",
       "      <td>3</td>\n",
       "      <td>2019-01-01 00:01:16</td>\n",
       "      <td>3534093764340240</td>\n",
       "      <td>fraud_Kutch, Hermiston and Farrell</td>\n",
       "      <td>gas_transport</td>\n",
       "      <td>45.00</td>\n",
       "      <td>Jeremy</td>\n",
       "      <td>White</td>\n",
       "      <td>M</td>\n",
       "      <td>9443 Cynthia Court Apt. 038</td>\n",
       "      <td>Boulder</td>\n",
       "      <td>MT</td>\n",
       "      <td>59632</td>\n",
       "      <td>46.2306</td>\n",
       "      <td>-112.1138</td>\n",
       "      <td>1939</td>\n",
       "      <td>Patent attorney</td>\n",
       "      <td>1967-01-12</td>\n",
       "      <td>6b849c168bdad6f867558c3793159a81</td>\n",
       "      <td>1325376076</td>\n",
       "      <td>47.034331</td>\n",
       "      <td>-112.561071</td>\n",
       "      <td>0</td>\n",
       "    </tr>\n",
       "    <tr>\n",
       "      <th>4</th>\n",
       "      <td>4</td>\n",
       "      <td>2019-01-01 00:03:06</td>\n",
       "      <td>375534208663984</td>\n",
       "      <td>fraud_Keeling-Crist</td>\n",
       "      <td>misc_pos</td>\n",
       "      <td>41.96</td>\n",
       "      <td>Tyler</td>\n",
       "      <td>Garcia</td>\n",
       "      <td>M</td>\n",
       "      <td>408 Bradley Rest</td>\n",
       "      <td>Doe Hill</td>\n",
       "      <td>VA</td>\n",
       "      <td>24433</td>\n",
       "      <td>38.4207</td>\n",
       "      <td>-79.4629</td>\n",
       "      <td>99</td>\n",
       "      <td>Dance movement psychotherapist</td>\n",
       "      <td>1986-03-28</td>\n",
       "      <td>a41d7549acf90789359a9aa5346dcb46</td>\n",
       "      <td>1325376186</td>\n",
       "      <td>38.674999</td>\n",
       "      <td>-78.632459</td>\n",
       "      <td>0</td>\n",
       "    </tr>\n",
       "  </tbody>\n",
       "</table>\n",
       "</div>"
      ],
      "text/plain": [
       "   Unnamed: 0 trans_date_trans_time            cc_num                            merchant       category     amt      first     last gender                        street            city state    zip      lat      long  city_pop                                job         dob                         trans_num   unix_time  merch_lat  merch_long  is_fraud\n",
       "0           0   2019-01-01 00:00:18  2703186189652095          fraud_Rippin, Kub and Mann       misc_net    4.97   Jennifer    Banks      F                561 Perry Cove  Moravian Falls    NC  28654  36.0788  -81.1781      3495          Psychologist, counselling  1988-03-09  0b242abb623afc578575680df30655b9  1325376018  36.011293  -82.048315         0\n",
       "1           1   2019-01-01 00:00:44      630423337322     fraud_Heller, Gutmann and Zieme    grocery_pos  107.23  Stephanie     Gill      F  43039 Riley Greens Suite 393          Orient    WA  99160  48.8878 -118.2105       149  Special educational needs teacher  1978-06-21  1f76529f8574734946361c461b024d99  1325376044  49.159047 -118.186462         0\n",
       "2           2   2019-01-01 00:00:51    38859492057661                fraud_Lind-Buckridge  entertainment  220.11     Edward  Sanchez      M      594 White Dale Suite 530      Malad City    ID  83252  42.1808 -112.2620      4154        Nature conservation officer  1962-01-19  a1a22d70485983eac12b5b88dad1cf95  1325376051  43.150704 -112.154481         0\n",
       "3           3   2019-01-01 00:01:16  3534093764340240  fraud_Kutch, Hermiston and Farrell  gas_transport   45.00     Jeremy    White      M   9443 Cynthia Court Apt. 038         Boulder    MT  59632  46.2306 -112.1138      1939                    Patent attorney  1967-01-12  6b849c168bdad6f867558c3793159a81  1325376076  47.034331 -112.561071         0\n",
       "4           4   2019-01-01 00:03:06   375534208663984                 fraud_Keeling-Crist       misc_pos   41.96      Tyler   Garcia      M              408 Bradley Rest        Doe Hill    VA  24433  38.4207  -79.4629        99     Dance movement psychotherapist  1986-03-28  a41d7549acf90789359a9aa5346dcb46  1325376186  38.674999  -78.632459         0"
      ]
     },
     "execution_count": 25,
     "metadata": {},
     "output_type": "execute_result"
    }
   ],
   "source": [
    "# Dataframe \"fraudTrain.csv\"\n",
    "df_train.head()"
   ]
  },
  {
   "cell_type": "markdown",
   "metadata": {},
   "source": [
    "# ANÁLISE DESCRITIVA: DATASET DE TREINO - FRAUDTRAIN.CSV"
   ]
  },
  {
   "cell_type": "code",
   "execution_count": 26,
   "metadata": {},
   "outputs": [
    {
     "data": {
      "text/html": [
       "<div>\n",
       "<style scoped>\n",
       "    .dataframe tbody tr th:only-of-type {\n",
       "        vertical-align: middle;\n",
       "    }\n",
       "\n",
       "    .dataframe tbody tr th {\n",
       "        vertical-align: top;\n",
       "    }\n",
       "\n",
       "    .dataframe thead th {\n",
       "        text-align: right;\n",
       "    }\n",
       "</style>\n",
       "<table border=\"1\" class=\"dataframe\">\n",
       "  <thead>\n",
       "    <tr style=\"text-align: right;\">\n",
       "      <th></th>\n",
       "      <th>Unnamed: 0</th>\n",
       "      <th>cc_num</th>\n",
       "      <th>amt</th>\n",
       "      <th>zip</th>\n",
       "      <th>lat</th>\n",
       "      <th>long</th>\n",
       "      <th>city_pop</th>\n",
       "      <th>unix_time</th>\n",
       "      <th>merch_lat</th>\n",
       "      <th>merch_long</th>\n",
       "      <th>is_fraud</th>\n",
       "    </tr>\n",
       "  </thead>\n",
       "  <tbody>\n",
       "    <tr>\n",
       "      <th>count</th>\n",
       "      <td>1.296675e+06</td>\n",
       "      <td>1.296675e+06</td>\n",
       "      <td>1.296675e+06</td>\n",
       "      <td>1.296675e+06</td>\n",
       "      <td>1.296675e+06</td>\n",
       "      <td>1.296675e+06</td>\n",
       "      <td>1.296675e+06</td>\n",
       "      <td>1.296675e+06</td>\n",
       "      <td>1.296675e+06</td>\n",
       "      <td>1.296675e+06</td>\n",
       "      <td>1.296675e+06</td>\n",
       "    </tr>\n",
       "    <tr>\n",
       "      <th>mean</th>\n",
       "      <td>6.483370e+05</td>\n",
       "      <td>4.171920e+17</td>\n",
       "      <td>7.035104e+01</td>\n",
       "      <td>4.880067e+04</td>\n",
       "      <td>3.853762e+01</td>\n",
       "      <td>-9.022634e+01</td>\n",
       "      <td>8.882444e+04</td>\n",
       "      <td>1.349244e+09</td>\n",
       "      <td>3.853734e+01</td>\n",
       "      <td>-9.022646e+01</td>\n",
       "      <td>5.788652e-03</td>\n",
       "    </tr>\n",
       "    <tr>\n",
       "      <th>std</th>\n",
       "      <td>3.743180e+05</td>\n",
       "      <td>1.308806e+18</td>\n",
       "      <td>1.603160e+02</td>\n",
       "      <td>2.689322e+04</td>\n",
       "      <td>5.075808e+00</td>\n",
       "      <td>1.375908e+01</td>\n",
       "      <td>3.019564e+05</td>\n",
       "      <td>1.284128e+07</td>\n",
       "      <td>5.109788e+00</td>\n",
       "      <td>1.377109e+01</td>\n",
       "      <td>7.586269e-02</td>\n",
       "    </tr>\n",
       "    <tr>\n",
       "      <th>min</th>\n",
       "      <td>0.000000e+00</td>\n",
       "      <td>6.041621e+10</td>\n",
       "      <td>1.000000e+00</td>\n",
       "      <td>1.257000e+03</td>\n",
       "      <td>2.002710e+01</td>\n",
       "      <td>-1.656723e+02</td>\n",
       "      <td>2.300000e+01</td>\n",
       "      <td>1.325376e+09</td>\n",
       "      <td>1.902779e+01</td>\n",
       "      <td>-1.666712e+02</td>\n",
       "      <td>0.000000e+00</td>\n",
       "    </tr>\n",
       "    <tr>\n",
       "      <th>25%</th>\n",
       "      <td>3.241685e+05</td>\n",
       "      <td>1.800429e+14</td>\n",
       "      <td>9.650000e+00</td>\n",
       "      <td>2.623700e+04</td>\n",
       "      <td>3.462050e+01</td>\n",
       "      <td>-9.679800e+01</td>\n",
       "      <td>7.430000e+02</td>\n",
       "      <td>1.338751e+09</td>\n",
       "      <td>3.473357e+01</td>\n",
       "      <td>-9.689728e+01</td>\n",
       "      <td>0.000000e+00</td>\n",
       "    </tr>\n",
       "    <tr>\n",
       "      <th>50%</th>\n",
       "      <td>6.483370e+05</td>\n",
       "      <td>3.521417e+15</td>\n",
       "      <td>4.752000e+01</td>\n",
       "      <td>4.817400e+04</td>\n",
       "      <td>3.935430e+01</td>\n",
       "      <td>-8.747690e+01</td>\n",
       "      <td>2.456000e+03</td>\n",
       "      <td>1.349250e+09</td>\n",
       "      <td>3.936568e+01</td>\n",
       "      <td>-8.743839e+01</td>\n",
       "      <td>0.000000e+00</td>\n",
       "    </tr>\n",
       "    <tr>\n",
       "      <th>75%</th>\n",
       "      <td>9.725055e+05</td>\n",
       "      <td>4.642255e+15</td>\n",
       "      <td>8.314000e+01</td>\n",
       "      <td>7.204200e+04</td>\n",
       "      <td>4.194040e+01</td>\n",
       "      <td>-8.015800e+01</td>\n",
       "      <td>2.032800e+04</td>\n",
       "      <td>1.359385e+09</td>\n",
       "      <td>4.195716e+01</td>\n",
       "      <td>-8.023680e+01</td>\n",
       "      <td>0.000000e+00</td>\n",
       "    </tr>\n",
       "    <tr>\n",
       "      <th>max</th>\n",
       "      <td>1.296674e+06</td>\n",
       "      <td>4.992346e+18</td>\n",
       "      <td>2.894890e+04</td>\n",
       "      <td>9.978300e+04</td>\n",
       "      <td>6.669330e+01</td>\n",
       "      <td>-6.795030e+01</td>\n",
       "      <td>2.906700e+06</td>\n",
       "      <td>1.371817e+09</td>\n",
       "      <td>6.751027e+01</td>\n",
       "      <td>-6.695090e+01</td>\n",
       "      <td>1.000000e+00</td>\n",
       "    </tr>\n",
       "  </tbody>\n",
       "</table>\n",
       "</div>"
      ],
      "text/plain": [
       "         Unnamed: 0        cc_num           amt           zip           lat          long      city_pop     unix_time     merch_lat    merch_long      is_fraud\n",
       "count  1.296675e+06  1.296675e+06  1.296675e+06  1.296675e+06  1.296675e+06  1.296675e+06  1.296675e+06  1.296675e+06  1.296675e+06  1.296675e+06  1.296675e+06\n",
       "mean   6.483370e+05  4.171920e+17  7.035104e+01  4.880067e+04  3.853762e+01 -9.022634e+01  8.882444e+04  1.349244e+09  3.853734e+01 -9.022646e+01  5.788652e-03\n",
       "std    3.743180e+05  1.308806e+18  1.603160e+02  2.689322e+04  5.075808e+00  1.375908e+01  3.019564e+05  1.284128e+07  5.109788e+00  1.377109e+01  7.586269e-02\n",
       "min    0.000000e+00  6.041621e+10  1.000000e+00  1.257000e+03  2.002710e+01 -1.656723e+02  2.300000e+01  1.325376e+09  1.902779e+01 -1.666712e+02  0.000000e+00\n",
       "25%    3.241685e+05  1.800429e+14  9.650000e+00  2.623700e+04  3.462050e+01 -9.679800e+01  7.430000e+02  1.338751e+09  3.473357e+01 -9.689728e+01  0.000000e+00\n",
       "50%    6.483370e+05  3.521417e+15  4.752000e+01  4.817400e+04  3.935430e+01 -8.747690e+01  2.456000e+03  1.349250e+09  3.936568e+01 -8.743839e+01  0.000000e+00\n",
       "75%    9.725055e+05  4.642255e+15  8.314000e+01  7.204200e+04  4.194040e+01 -8.015800e+01  2.032800e+04  1.359385e+09  4.195716e+01 -8.023680e+01  0.000000e+00\n",
       "max    1.296674e+06  4.992346e+18  2.894890e+04  9.978300e+04  6.669330e+01 -6.795030e+01  2.906700e+06  1.371817e+09  6.751027e+01 -6.695090e+01  1.000000e+00"
      ]
     },
     "execution_count": 26,
     "metadata": {},
     "output_type": "execute_result"
    }
   ],
   "source": [
    "# Algumas estatisticas do dataset\n",
    "df_train.describe()"
   ]
  },
  {
   "cell_type": "code",
   "execution_count": 7,
   "metadata": {},
   "outputs": [
    {
     "name": "stdout",
     "output_type": "stream",
     "text": [
      "<class 'pandas.core.frame.DataFrame'>\n",
      "RangeIndex: 1296675 entries, 0 to 1296674\n",
      "Data columns (total 23 columns):\n",
      " #   Column                 Non-Null Count    Dtype  \n",
      "---  ------                 --------------    -----  \n",
      " 0   Unnamed: 0             1296675 non-null  int64  \n",
      " 1   trans_date_trans_time  1296675 non-null  object \n",
      " 2   cc_num                 1296675 non-null  int64  \n",
      " 3   merchant               1296675 non-null  object \n",
      " 4   category               1296675 non-null  object \n",
      " 5   amt                    1296675 non-null  float64\n",
      " 6   first                  1296675 non-null  object \n",
      " 7   last                   1296675 non-null  object \n",
      " 8   gender                 1296675 non-null  object \n",
      " 9   street                 1296675 non-null  object \n",
      " 10  city                   1296675 non-null  object \n",
      " 11  state                  1296675 non-null  object \n",
      " 12  zip                    1296675 non-null  int64  \n",
      " 13  lat                    1296675 non-null  float64\n",
      " 14  long                   1296675 non-null  float64\n",
      " 15  city_pop               1296675 non-null  int64  \n",
      " 16  job                    1296675 non-null  object \n",
      " 17  dob                    1296675 non-null  object \n",
      " 18  trans_num              1296675 non-null  object \n",
      " 19  unix_time              1296675 non-null  int64  \n",
      " 20  merch_lat              1296675 non-null  float64\n",
      " 21  merch_long             1296675 non-null  float64\n",
      " 22  is_fraud               1296675 non-null  int64  \n",
      "dtypes: float64(5), int64(6), object(12)\n",
      "memory usage: 227.5+ MB\n"
     ]
    }
   ],
   "source": [
    "# Verificando as colunas existentes\n",
    "df_train.info()"
   ]
  },
  {
   "cell_type": "code",
   "execution_count": null,
   "metadata": {},
   "outputs": [],
   "source": [
    "# Realizando a contagem de valores da coluna \"merchant\"\n",
    "df_train.merchant.value_counts()"
   ]
  },
  {
   "cell_type": "code",
   "execution_count": null,
   "metadata": {},
   "outputs": [],
   "source": [
    "# Realizando a contagem de valores da coluna \"is_fraud\"\n",
    "print(\"Contagem de valores da coluna is_fraud:\")\n",
    "print(\"-\"*39)\n",
    "print(df_train.is_fraud.value_counts())\n"
   ]
  },
  {
   "cell_type": "code",
   "execution_count": null,
   "metadata": {},
   "outputs": [],
   "source": [
    "# Verificando a extensão do dataset\n",
    "print(\"Extensão do dataset:\")\n",
    "print(\"-\"*23)\n",
    "print(df_train.shape)\n"
   ]
  },
  {
   "cell_type": "code",
   "execution_count": null,
   "metadata": {},
   "outputs": [],
   "source": [
    "# Verificando os nomes de cada coluna \n",
    "print(\"Colunas do dataset\")\n",
    "print(df_train.columns)"
   ]
  },
  {
   "cell_type": "markdown",
   "metadata": {},
   "source": [
    "# ANÁLISE EXPLORATÓRIA: DATASET DE TREINO - FRAUDTRAIN.CSV"
   ]
  },
  {
   "cell_type": "code",
   "execution_count": null,
   "metadata": {},
   "outputs": [],
   "source": [
    "# Calcular a proporção de fraudes\n",
    "fraud_proportion = df_train['is_fraud'].value_counts(normalize=True)\n",
    "\n",
    "# Criar um DataFrame para facilitar a criação do gráfico\n",
    "fraud_data = pd.DataFrame({'Classe de Fraude': fraud_proportion.index, 'Proporção': fraud_proportion.values})\n",
    "\n",
    "# Criar o gráfico de barras com o Plotly\n",
    "fig = px.bar(fraud_data, x='Classe de Fraude', y='Proporção', text='Proporção', title='Distribuição de Fraudes', labels={'Classe de Fraude': 'Classe de Fraude'})\n",
    "fig.update_traces(texttemplate='%{text:.2%}', textposition='outside')\n",
    "fig.show()\n",
    "\n"
   ]
  },
  {
   "cell_type": "code",
   "execution_count": null,
   "metadata": {},
   "outputs": [],
   "source": [
    "# mostrando a porcentagem de transações fraudulentas e não fraudulentas para cada categoria presente na coluna category \n",
    "round(pd.crosstab(index=df_train.category, columns=df_train.is_fraud, normalize='index')*100,2)"
   ]
  },
  {
   "cell_type": "code",
   "execution_count": 8,
   "metadata": {},
   "outputs": [
    {
     "data": {
      "application/vnd.plotly.v1+json": {
       "config": {
        "plotlyServerURL": "https://plot.ly"
       },
       "data": [
        {
         "alignmentgroup": "True",
         "hovertemplate": "variable=0<br>category=%{x}<br>value=%{y}<extra></extra>",
         "legendgroup": "0",
         "marker": {
          "color": "#636efa",
          "pattern": {
           "shape": ""
          }
         },
         "name": "0",
         "offsetgroup": "0",
         "orientation": "v",
         "showlegend": true,
         "textposition": "auto",
         "type": "bar",
         "x": [
          "entertainment",
          "food_dining",
          "gas_transport",
          "grocery_net",
          "grocery_pos",
          "health_fitness",
          "home",
          "kids_pets",
          "misc_net",
          "misc_pos",
          "personal_care",
          "shopping_net",
          "shopping_pos",
          "travel"
         ],
         "xaxis": "x",
         "y": [
          99.75216457123408,
          99.8349023080876,
          99.53060557956539,
          99.70518349027545,
          98.5902392468335,
          99.84513094004355,
          99.83917475531008,
          99.78856106515681,
          98.5542054450361,
          99.68614650681063,
          99.75759712642412,
          98.2438514296259,
          99.27746160175535,
          99.71362974300739
         ],
         "yaxis": "y"
        },
        {
         "alignmentgroup": "True",
         "hovertemplate": "variable=1<br>category=%{x}<br>value=%{y}<extra></extra>",
         "legendgroup": "1",
         "marker": {
          "color": "#EF553B",
          "pattern": {
           "shape": ""
          }
         },
         "name": "1",
         "offsetgroup": "1",
         "orientation": "v",
         "showlegend": true,
         "textposition": "auto",
         "type": "bar",
         "x": [
          "entertainment",
          "food_dining",
          "gas_transport",
          "grocery_net",
          "grocery_pos",
          "health_fitness",
          "home",
          "kids_pets",
          "misc_net",
          "misc_pos",
          "personal_care",
          "shopping_net",
          "shopping_pos",
          "travel"
         ],
         "xaxis": "x",
         "y": [
          0.24783542876592848,
          0.1650976919123998,
          0.4693944204346076,
          0.29481650972454454,
          1.4097607531665022,
          0.15486905995645037,
          0.16082524468992407,
          0.21143893484319018,
          1.4457945549638946,
          0.31385349318937916,
          0.2424028735758831,
          1.7561485703740916,
          0.7225383982446517,
          0.2863702569926186
         ],
         "yaxis": "y"
        }
       ],
       "layout": {
        "barmode": "stack",
        "height": 400,
        "legend": {
         "title": {
          "text": "variable"
         },
         "tracegroupgap": 0
        },
        "template": {
         "data": {
          "bar": [
           {
            "error_x": {
             "color": "#2a3f5f"
            },
            "error_y": {
             "color": "#2a3f5f"
            },
            "marker": {
             "line": {
              "color": "#E5ECF6",
              "width": 0.5
             },
             "pattern": {
              "fillmode": "overlay",
              "size": 10,
              "solidity": 0.2
             }
            },
            "type": "bar"
           }
          ],
          "barpolar": [
           {
            "marker": {
             "line": {
              "color": "#E5ECF6",
              "width": 0.5
             },
             "pattern": {
              "fillmode": "overlay",
              "size": 10,
              "solidity": 0.2
             }
            },
            "type": "barpolar"
           }
          ],
          "carpet": [
           {
            "aaxis": {
             "endlinecolor": "#2a3f5f",
             "gridcolor": "white",
             "linecolor": "white",
             "minorgridcolor": "white",
             "startlinecolor": "#2a3f5f"
            },
            "baxis": {
             "endlinecolor": "#2a3f5f",
             "gridcolor": "white",
             "linecolor": "white",
             "minorgridcolor": "white",
             "startlinecolor": "#2a3f5f"
            },
            "type": "carpet"
           }
          ],
          "choropleth": [
           {
            "colorbar": {
             "outlinewidth": 0,
             "ticks": ""
            },
            "type": "choropleth"
           }
          ],
          "contour": [
           {
            "colorbar": {
             "outlinewidth": 0,
             "ticks": ""
            },
            "colorscale": [
             [
              0,
              "#0d0887"
             ],
             [
              0.1111111111111111,
              "#46039f"
             ],
             [
              0.2222222222222222,
              "#7201a8"
             ],
             [
              0.3333333333333333,
              "#9c179e"
             ],
             [
              0.4444444444444444,
              "#bd3786"
             ],
             [
              0.5555555555555556,
              "#d8576b"
             ],
             [
              0.6666666666666666,
              "#ed7953"
             ],
             [
              0.7777777777777778,
              "#fb9f3a"
             ],
             [
              0.8888888888888888,
              "#fdca26"
             ],
             [
              1,
              "#f0f921"
             ]
            ],
            "type": "contour"
           }
          ],
          "contourcarpet": [
           {
            "colorbar": {
             "outlinewidth": 0,
             "ticks": ""
            },
            "type": "contourcarpet"
           }
          ],
          "heatmap": [
           {
            "colorbar": {
             "outlinewidth": 0,
             "ticks": ""
            },
            "colorscale": [
             [
              0,
              "#0d0887"
             ],
             [
              0.1111111111111111,
              "#46039f"
             ],
             [
              0.2222222222222222,
              "#7201a8"
             ],
             [
              0.3333333333333333,
              "#9c179e"
             ],
             [
              0.4444444444444444,
              "#bd3786"
             ],
             [
              0.5555555555555556,
              "#d8576b"
             ],
             [
              0.6666666666666666,
              "#ed7953"
             ],
             [
              0.7777777777777778,
              "#fb9f3a"
             ],
             [
              0.8888888888888888,
              "#fdca26"
             ],
             [
              1,
              "#f0f921"
             ]
            ],
            "type": "heatmap"
           }
          ],
          "heatmapgl": [
           {
            "colorbar": {
             "outlinewidth": 0,
             "ticks": ""
            },
            "colorscale": [
             [
              0,
              "#0d0887"
             ],
             [
              0.1111111111111111,
              "#46039f"
             ],
             [
              0.2222222222222222,
              "#7201a8"
             ],
             [
              0.3333333333333333,
              "#9c179e"
             ],
             [
              0.4444444444444444,
              "#bd3786"
             ],
             [
              0.5555555555555556,
              "#d8576b"
             ],
             [
              0.6666666666666666,
              "#ed7953"
             ],
             [
              0.7777777777777778,
              "#fb9f3a"
             ],
             [
              0.8888888888888888,
              "#fdca26"
             ],
             [
              1,
              "#f0f921"
             ]
            ],
            "type": "heatmapgl"
           }
          ],
          "histogram": [
           {
            "marker": {
             "pattern": {
              "fillmode": "overlay",
              "size": 10,
              "solidity": 0.2
             }
            },
            "type": "histogram"
           }
          ],
          "histogram2d": [
           {
            "colorbar": {
             "outlinewidth": 0,
             "ticks": ""
            },
            "colorscale": [
             [
              0,
              "#0d0887"
             ],
             [
              0.1111111111111111,
              "#46039f"
             ],
             [
              0.2222222222222222,
              "#7201a8"
             ],
             [
              0.3333333333333333,
              "#9c179e"
             ],
             [
              0.4444444444444444,
              "#bd3786"
             ],
             [
              0.5555555555555556,
              "#d8576b"
             ],
             [
              0.6666666666666666,
              "#ed7953"
             ],
             [
              0.7777777777777778,
              "#fb9f3a"
             ],
             [
              0.8888888888888888,
              "#fdca26"
             ],
             [
              1,
              "#f0f921"
             ]
            ],
            "type": "histogram2d"
           }
          ],
          "histogram2dcontour": [
           {
            "colorbar": {
             "outlinewidth": 0,
             "ticks": ""
            },
            "colorscale": [
             [
              0,
              "#0d0887"
             ],
             [
              0.1111111111111111,
              "#46039f"
             ],
             [
              0.2222222222222222,
              "#7201a8"
             ],
             [
              0.3333333333333333,
              "#9c179e"
             ],
             [
              0.4444444444444444,
              "#bd3786"
             ],
             [
              0.5555555555555556,
              "#d8576b"
             ],
             [
              0.6666666666666666,
              "#ed7953"
             ],
             [
              0.7777777777777778,
              "#fb9f3a"
             ],
             [
              0.8888888888888888,
              "#fdca26"
             ],
             [
              1,
              "#f0f921"
             ]
            ],
            "type": "histogram2dcontour"
           }
          ],
          "mesh3d": [
           {
            "colorbar": {
             "outlinewidth": 0,
             "ticks": ""
            },
            "type": "mesh3d"
           }
          ],
          "parcoords": [
           {
            "line": {
             "colorbar": {
              "outlinewidth": 0,
              "ticks": ""
             }
            },
            "type": "parcoords"
           }
          ],
          "pie": [
           {
            "automargin": true,
            "type": "pie"
           }
          ],
          "scatter": [
           {
            "fillpattern": {
             "fillmode": "overlay",
             "size": 10,
             "solidity": 0.2
            },
            "type": "scatter"
           }
          ],
          "scatter3d": [
           {
            "line": {
             "colorbar": {
              "outlinewidth": 0,
              "ticks": ""
             }
            },
            "marker": {
             "colorbar": {
              "outlinewidth": 0,
              "ticks": ""
             }
            },
            "type": "scatter3d"
           }
          ],
          "scattercarpet": [
           {
            "marker": {
             "colorbar": {
              "outlinewidth": 0,
              "ticks": ""
             }
            },
            "type": "scattercarpet"
           }
          ],
          "scattergeo": [
           {
            "marker": {
             "colorbar": {
              "outlinewidth": 0,
              "ticks": ""
             }
            },
            "type": "scattergeo"
           }
          ],
          "scattergl": [
           {
            "marker": {
             "colorbar": {
              "outlinewidth": 0,
              "ticks": ""
             }
            },
            "type": "scattergl"
           }
          ],
          "scattermapbox": [
           {
            "marker": {
             "colorbar": {
              "outlinewidth": 0,
              "ticks": ""
             }
            },
            "type": "scattermapbox"
           }
          ],
          "scatterpolar": [
           {
            "marker": {
             "colorbar": {
              "outlinewidth": 0,
              "ticks": ""
             }
            },
            "type": "scatterpolar"
           }
          ],
          "scatterpolargl": [
           {
            "marker": {
             "colorbar": {
              "outlinewidth": 0,
              "ticks": ""
             }
            },
            "type": "scatterpolargl"
           }
          ],
          "scatterternary": [
           {
            "marker": {
             "colorbar": {
              "outlinewidth": 0,
              "ticks": ""
             }
            },
            "type": "scatterternary"
           }
          ],
          "surface": [
           {
            "colorbar": {
             "outlinewidth": 0,
             "ticks": ""
            },
            "colorscale": [
             [
              0,
              "#0d0887"
             ],
             [
              0.1111111111111111,
              "#46039f"
             ],
             [
              0.2222222222222222,
              "#7201a8"
             ],
             [
              0.3333333333333333,
              "#9c179e"
             ],
             [
              0.4444444444444444,
              "#bd3786"
             ],
             [
              0.5555555555555556,
              "#d8576b"
             ],
             [
              0.6666666666666666,
              "#ed7953"
             ],
             [
              0.7777777777777778,
              "#fb9f3a"
             ],
             [
              0.8888888888888888,
              "#fdca26"
             ],
             [
              1,
              "#f0f921"
             ]
            ],
            "type": "surface"
           }
          ],
          "table": [
           {
            "cells": {
             "fill": {
              "color": "#EBF0F8"
             },
             "line": {
              "color": "white"
             }
            },
            "header": {
             "fill": {
              "color": "#C8D4E3"
             },
             "line": {
              "color": "white"
             }
            },
            "type": "table"
           }
          ]
         },
         "layout": {
          "annotationdefaults": {
           "arrowcolor": "#2a3f5f",
           "arrowhead": 0,
           "arrowwidth": 1
          },
          "autotypenumbers": "strict",
          "coloraxis": {
           "colorbar": {
            "outlinewidth": 0,
            "ticks": ""
           }
          },
          "colorscale": {
           "diverging": [
            [
             0,
             "#8e0152"
            ],
            [
             0.1,
             "#c51b7d"
            ],
            [
             0.2,
             "#de77ae"
            ],
            [
             0.3,
             "#f1b6da"
            ],
            [
             0.4,
             "#fde0ef"
            ],
            [
             0.5,
             "#f7f7f7"
            ],
            [
             0.6,
             "#e6f5d0"
            ],
            [
             0.7,
             "#b8e186"
            ],
            [
             0.8,
             "#7fbc41"
            ],
            [
             0.9,
             "#4d9221"
            ],
            [
             1,
             "#276419"
            ]
           ],
           "sequential": [
            [
             0,
             "#0d0887"
            ],
            [
             0.1111111111111111,
             "#46039f"
            ],
            [
             0.2222222222222222,
             "#7201a8"
            ],
            [
             0.3333333333333333,
             "#9c179e"
            ],
            [
             0.4444444444444444,
             "#bd3786"
            ],
            [
             0.5555555555555556,
             "#d8576b"
            ],
            [
             0.6666666666666666,
             "#ed7953"
            ],
            [
             0.7777777777777778,
             "#fb9f3a"
            ],
            [
             0.8888888888888888,
             "#fdca26"
            ],
            [
             1,
             "#f0f921"
            ]
           ],
           "sequentialminus": [
            [
             0,
             "#0d0887"
            ],
            [
             0.1111111111111111,
             "#46039f"
            ],
            [
             0.2222222222222222,
             "#7201a8"
            ],
            [
             0.3333333333333333,
             "#9c179e"
            ],
            [
             0.4444444444444444,
             "#bd3786"
            ],
            [
             0.5555555555555556,
             "#d8576b"
            ],
            [
             0.6666666666666666,
             "#ed7953"
            ],
            [
             0.7777777777777778,
             "#fb9f3a"
            ],
            [
             0.8888888888888888,
             "#fdca26"
            ],
            [
             1,
             "#f0f921"
            ]
           ]
          },
          "colorway": [
           "#636efa",
           "#EF553B",
           "#00cc96",
           "#ab63fa",
           "#FFA15A",
           "#19d3f3",
           "#FF6692",
           "#B6E880",
           "#FF97FF",
           "#FECB52"
          ],
          "font": {
           "color": "#2a3f5f"
          },
          "geo": {
           "bgcolor": "white",
           "lakecolor": "white",
           "landcolor": "#E5ECF6",
           "showlakes": true,
           "showland": true,
           "subunitcolor": "white"
          },
          "hoverlabel": {
           "align": "left"
          },
          "hovermode": "closest",
          "mapbox": {
           "style": "light"
          },
          "paper_bgcolor": "white",
          "plot_bgcolor": "#E5ECF6",
          "polar": {
           "angularaxis": {
            "gridcolor": "white",
            "linecolor": "white",
            "ticks": ""
           },
           "bgcolor": "#E5ECF6",
           "radialaxis": {
            "gridcolor": "white",
            "linecolor": "white",
            "ticks": ""
           }
          },
          "scene": {
           "xaxis": {
            "backgroundcolor": "#E5ECF6",
            "gridcolor": "white",
            "gridwidth": 2,
            "linecolor": "white",
            "showbackground": true,
            "ticks": "",
            "zerolinecolor": "white"
           },
           "yaxis": {
            "backgroundcolor": "#E5ECF6",
            "gridcolor": "white",
            "gridwidth": 2,
            "linecolor": "white",
            "showbackground": true,
            "ticks": "",
            "zerolinecolor": "white"
           },
           "zaxis": {
            "backgroundcolor": "#E5ECF6",
            "gridcolor": "white",
            "gridwidth": 2,
            "linecolor": "white",
            "showbackground": true,
            "ticks": "",
            "zerolinecolor": "white"
           }
          },
          "shapedefaults": {
           "line": {
            "color": "#2a3f5f"
           }
          },
          "ternary": {
           "aaxis": {
            "gridcolor": "white",
            "linecolor": "white",
            "ticks": ""
           },
           "baxis": {
            "gridcolor": "white",
            "linecolor": "white",
            "ticks": ""
           },
           "bgcolor": "#E5ECF6",
           "caxis": {
            "gridcolor": "white",
            "linecolor": "white",
            "ticks": ""
           }
          },
          "title": {
           "x": 0.05
          },
          "xaxis": {
           "automargin": true,
           "gridcolor": "white",
           "linecolor": "white",
           "ticks": "",
           "title": {
            "standoff": 15
           },
           "zerolinecolor": "white",
           "zerolinewidth": 2
          },
          "yaxis": {
           "automargin": true,
           "gridcolor": "white",
           "linecolor": "white",
           "ticks": "",
           "title": {
            "standoff": 15
           },
           "zerolinecolor": "white",
           "zerolinewidth": 2
          }
         }
        },
        "title": {
         "text": "Gráfico de Barras Empilhadas da Tabela de Contingência (Percentual)"
        },
        "xaxis": {
         "anchor": "y",
         "domain": [
          0,
          1
         ],
         "title": {
          "text": "category"
         }
        },
        "yaxis": {
         "anchor": "x",
         "domain": [
          0,
          1
         ],
         "title": {
          "text": "value"
         }
        }
       }
      }
     },
     "metadata": {},
     "output_type": "display_data"
    }
   ],
   "source": [
    "# Cria uma tabela de contingência\n",
    "crosstab = pd.crosstab(index=df_train.category, columns=df_train.is_fraud, normalize='index') * 100\n",
    "\n",
    "# Reinicia o índice para facilitar o manuseio\n",
    "crosstab = crosstab.reset_index()\n",
    "\n",
    "# Cria um gráfico de barras empilhadas usando o Plotly Express\n",
    "fig = px.bar(crosstab, x='category', y=[0, 1], title=\"Gráfico de Barras Empilhadas da Tabela de Contingência (Percentual)\",\n",
    "             labels={0: \"Não Fraude\", 1: \"Fraude\"},\n",
    "             height=400)\n",
    "\n",
    "# Atualiza o layout para um gráfico de barras empilhadas\n",
    "fig.update_layout(barmode='stack')\n",
    "\n",
    "# Mostra o gráfico\n",
    "fig.show()\n"
   ]
  },
  {
   "cell_type": "code",
   "execution_count": null,
   "metadata": {},
   "outputs": [],
   "source": [
    "# Agrupa os dados por estado e calcula o número total de transações em cada estado\n",
    "total_transacoes_por_estado = df_train[\"state\"].value_counts()\n",
    "\n",
    "# Filtra os dados para transações fraudulentas\n",
    "dados_fraudulentos = df_train[df_train[\"is_fraud\"] == 1]\n",
    "\n",
    "# Agrupa os dados fraudulentos por estado e calcula o número de transações fraudulentas em cada estado\n",
    "transacoes_fraudulentas_por_estado = dados_fraudulentos[\"state\"].value_counts()\n",
    "\n",
    "# Calcula a taxa de fraude para cada estado (transações fraudulentas / total de transações)\n",
    "taxa_de_fraude = (transacoes_fraudulentas_por_estado / total_transacoes_por_estado).fillna(0)\n",
    "\n",
    "# Reinicia o índice e ordena os resultados por 'count' de forma descendente\n",
    "taxa_de_fraude.reset_index().sort_values(by='count', ascending=False)\n"
   ]
  },
  {
   "cell_type": "code",
   "execution_count": null,
   "metadata": {},
   "outputs": [],
   "source": [
    "# Retorna as últimas 20 linhas (estados) dessa Series, representando os estados com o menor número de transações. \n",
    "total_transacoes_por_estado.tail(20)"
   ]
  },
  {
   "cell_type": "markdown",
   "metadata": {},
   "source": [
    "## Fraudes por cidade"
   ]
  },
  {
   "cell_type": "code",
   "execution_count": null,
   "metadata": {},
   "outputs": [],
   "source": [
    "# Retorna o número de cidades únicas presentes na coluna cidade\n",
    "df_train.city.nunique()"
   ]
  },
  {
   "cell_type": "code",
   "execution_count": null,
   "metadata": {},
   "outputs": [],
   "source": [
    "# Agrupa os dados por cidade e calcula o número total de transações em cada cidade\n",
    "total_transacoes_por_cidade = df_train[\"city\"].value_counts()\n",
    "\n",
    "# Filtra os dados para transações fraudulentas\n",
    "dados_fraudulentos = df_train[df_train[\"is_fraud\"] == 1]\n",
    "\n",
    "# Agrupa os dados fraudulentos por cidade e calcula o número de transações fraudulentas em cada cidade\n",
    "transacoes_fraudulentas_por_cidade = dados_fraudulentos[\"city\"].value_counts()\n",
    "\n",
    "# Calcula a taxa de fraude para cada cidade (transações fraudulentas / total de transações)\n",
    "taxa_de_fraude = (transacoes_fraudulentas_por_cidade / total_transacoes_por_cidade).fillna(0)\n",
    "\n",
    "# Seleciona as cidades com taxa de fraude igual a 1, reinicia o índice e ordena os resultados por 'count' de forma descendente\n",
    "taxa_de_fraude[taxa_de_fraude == 1].reset_index().sort_values(by='count', ascending=False)\n"
   ]
  },
  {
   "cell_type": "code",
   "execution_count": null,
   "metadata": {},
   "outputs": [],
   "source": [
    "# Define o estilo (opcional)\n",
    "sns.set_style(\"whitegrid\")\n",
    "\n",
    "# Cria um violin plot usando o Seaborn para valor da compra por classe\n",
    "plt.figure(figsize=(10, 6))  # Define o tamanho da figura (opcional)\n",
    "sns.violinplot(data=df_train.query('amt <= 200'), x='is_fraud', y='amt')\n",
    "# Define o título e rótulos\n",
    "plt.title('Violin Plot - Distribuição do Valor da Compra por Classe de Fraude')\n",
    "plt.xlabel('Classe de Fraude')\n",
    "plt.ylabel('Valor da Compra')\n",
    "\n",
    "# Mostra o gráfico\n",
    "plt.show()\n"
   ]
  },
  {
   "cell_type": "code",
   "execution_count": null,
   "metadata": {},
   "outputs": [],
   "source": [
    "# Define o estilo (opcional)\n",
    "sns.set_style(\"whitegrid\")\n",
    "\n",
    "# Cria um boxplot usando o Seaborn para distruibuição do valor de compra\n",
    "plt.figure(figsize=(10, 6))  # Define o tamanho da figura (opcional)\n",
    "sns.boxplot(data=df_train.query('amt <= 200'), y='amt', color='skyblue')  # Adicionado cor para melhor visualização\n",
    "\n",
    "# Define o título e rótulos\n",
    "plt.title('Boxplot - Distribuição do Valor da Compra')\n",
    "plt.ylabel('Valor da Compra')\n",
    "\n",
    "# Mostra o gráfico\n",
    "plt.show()\n"
   ]
  },
  {
   "cell_type": "code",
   "execution_count": null,
   "metadata": {},
   "outputs": [],
   "source": [
    "# Define o estilo (opcional)\n",
    "sns.set_style(\"whitegrid\")\n",
    "\n",
    "# Escolhe uma paleta de cores para as barras (cores mais claras)\n",
    "bar_palette = sns.color_palette(\"Blues\", as_cmap=True)\n",
    "\n",
    "# Escolhe uma cor mais escura para a linha do KDE\n",
    "line_color = 'navy'\n",
    "\n",
    "# Cria um histograma com KDE usando o Seaborn para valor de compra\n",
    "plt.figure(figsize=(10, 6))  # Define o tamanho da figura (opcional)\n",
    "sns.histplot(data=df_train.query('amt <= 200'), x='amt', kde=True)\n",
    "sns.kdeplot(data=df_train.query('amt <= 200')['amt'], color=line_color, linewidth=2)\n",
    "\n",
    "# Define o título e rótulos\n",
    "plt.title('Histograma com KDE - Valor da Compra')\n",
    "plt.xlabel('Valor da Compra')\n",
    "plt.ylabel('Contagem')\n",
    "\n",
    "# Mostra o gráfico\n",
    "plt.show()\n"
   ]
  },
  {
   "cell_type": "code",
   "execution_count": null,
   "metadata": {},
   "outputs": [],
   "source": [
    "# Define o estilo (opcional)\n",
    "sns.set_style(\"whitegrid\")\n",
    "\n",
    "# Cria um histograma com KDE usando o Seaborn para valores de compra acima de 2000\n",
    "plt.figure(figsize=(10, 6))  # Define o tamanho da figura (opcional)\n",
    "sns.histplot(data=df_train.query('amt > 2000'), x='amt', kde=True, color='red')  # Adiciona cor para melhor visualização\n",
    "\n",
    "# Define o título e rótulos\n",
    "plt.title('Histograma com KDE - Valor de Compra Acima de 2000')\n",
    "plt.xlabel('Valor de Compra')\n",
    "plt.ylabel('Contagem')\n",
    "\n",
    "# Mostra o gráfico\n",
    "plt.show()\n"
   ]
  },
  {
   "cell_type": "code",
   "execution_count": null,
   "metadata": {},
   "outputs": [],
   "source": [
    "# Selecionar apenas as colunas numéricas\n",
    "numeric_columns = df_train.select_dtypes(include=['int64', 'float64'])\n",
    "\n",
    "# Calculando a matriz de correlação para colunas numéricas\n",
    "correlation_matrix = numeric_columns.corr()\n",
    "\n",
    "# Criando uma figura maior\n",
    "plt.figure(figsize=(20, 10))\n",
    "\n",
    "# Criando um mapa de calor de correlação com paleta de cores personalizada\n",
    "sns.heatmap(correlation_matrix, annot=True, cmap='viridis', center=0, cbar_kws={'label': 'Correlação'})\n",
    "plt.title('Mapa de Calor de Correlação')\n",
    "\n",
    "plt.show()\n"
   ]
  },
  {
   "cell_type": "code",
   "execution_count": null,
   "metadata": {},
   "outputs": [],
   "source": [
    "# Análise temporal\n",
    "\n",
    "# Convertendo a coluna 'trans_date_trans_time' para um objeto de data e hora\n",
    "df_train['trans_date_trans_time'] = pd.to_datetime(df_train['trans_date_trans_time'])\n",
    "\n",
    "# Extraindo características de data e hora\n",
    "df_train['ano'] = df_train['trans_date_trans_time'].dt.year\n",
    "df_train['mes'] = df_train['trans_date_trans_time'].dt.month\n",
    "df_train['dia_da_semana'] = df_train['trans_date_trans_time'].dt.day_name()\n",
    "df_train['hora'] = df_train['trans_date_trans_time'].dt.hour\n",
    "df_train['minuto'] = df_train['trans_date_trans_time'].dt.minute\n",
    "df_train['segundo'] = df_train['trans_date_trans_time'].dt.second\n",
    "\n",
    "# Filtrando fraudes\n",
    "frauds = df_train[df_train['is_fraud'] == 1]\n",
    "\n",
    "# Contando fraudes por mês\n",
    "frauds_by_month = frauds['mes'].value_counts().sort_index().reset_index()\n",
    "frauds_by_month.columns = ['Mês', 'Número de Fraudes']\n",
    "\n",
    "# Criando um gráfico de barras interativo com Plotly\n",
    "fig = px.bar(frauds_by_month, x='Mês', y='Número de Fraudes', title='Fraudes por Mês',\n",
    "             labels={'Mês': 'Mês', 'Número de Fraudes': 'Número de Fraudes'})\n",
    "\n",
    "# Adicionando números em cima das barras\n",
    "fig.update_traces(text=frauds_by_month['Número de Fraudes'], textposition='outside')\n",
    "\n",
    "fig.show()\n"
   ]
  },
  {
   "cell_type": "code",
   "execution_count": null,
   "metadata": {},
   "outputs": [],
   "source": [
    "# Contagem de ocorrências por categoria\n",
    "category_counts = df_train['category'].value_counts().reset_index()\n",
    "category_counts.columns = ['Categoria', 'Contagem']\n",
    "\n",
    "# Agrupando por categoria e calculando a proporção de fraudes\n",
    "fraud_proportion_by_category = df_train.groupby('category')['is_fraud'].mean().reset_index()\n",
    "fraud_proportion_by_category.columns = ['Categoria', 'Proporção de Fraudes']\n",
    "\n",
    "# Criando um gráfico de barras interativo com Plotly\n",
    "fig = px.bar(fraud_proportion_by_category, x='Categoria', y='Proporção de Fraudes', title='Proporção de Fraudes por Categoria',\n",
    "             labels={'Categoria': 'Categoria', 'Proporção de Fraudes': 'Proporção de Fraudes'})\n",
    "\n",
    "# Formatando os números com cinco casas decimais\n",
    "fraud_proportion_by_category['Proporção de Fraudes'] = fraud_proportion_by_category['Proporção de Fraudes'].round(5)\n",
    "\n",
    "# Adicionando os números formatados (com cinco casas decimais) em cima das barras\n",
    "fig.update_traces(text=fraud_proportion_by_category['Proporção de Fraudes'], textposition='outside')\n",
    "\n",
    "fig.show()\n"
   ]
  },
  {
   "cell_type": "markdown",
   "metadata": {},
   "source": [
    "# FEATURE ENGINEERING"
   ]
  },
  {
   "cell_type": "code",
   "execution_count": 16,
   "metadata": {},
   "outputs": [
    {
     "data": {
      "text/html": [
       "<div>\n",
       "<style scoped>\n",
       "    .dataframe tbody tr th:only-of-type {\n",
       "        vertical-align: middle;\n",
       "    }\n",
       "\n",
       "    .dataframe tbody tr th {\n",
       "        vertical-align: top;\n",
       "    }\n",
       "\n",
       "    .dataframe thead th {\n",
       "        text-align: right;\n",
       "    }\n",
       "</style>\n",
       "<table border=\"1\" class=\"dataframe\">\n",
       "  <thead>\n",
       "    <tr style=\"text-align: right;\">\n",
       "      <th></th>\n",
       "      <th>Unnamed: 0</th>\n",
       "      <th>trans_date_trans_time</th>\n",
       "      <th>cc_num</th>\n",
       "      <th>merchant</th>\n",
       "      <th>category</th>\n",
       "      <th>amt</th>\n",
       "      <th>first</th>\n",
       "      <th>last</th>\n",
       "      <th>gender</th>\n",
       "      <th>street</th>\n",
       "      <th>city</th>\n",
       "      <th>state</th>\n",
       "      <th>zip</th>\n",
       "      <th>lat</th>\n",
       "      <th>long</th>\n",
       "      <th>city_pop</th>\n",
       "      <th>job</th>\n",
       "      <th>dob</th>\n",
       "      <th>trans_num</th>\n",
       "      <th>unix_time</th>\n",
       "      <th>merch_lat</th>\n",
       "      <th>merch_long</th>\n",
       "      <th>is_fraud</th>\n",
       "    </tr>\n",
       "  </thead>\n",
       "  <tbody>\n",
       "    <tr>\n",
       "      <th>0</th>\n",
       "      <td>0</td>\n",
       "      <td>2019-01-01 00:00:18</td>\n",
       "      <td>2703186189652095</td>\n",
       "      <td>fraud_Rippin, Kub and Mann</td>\n",
       "      <td>misc_net</td>\n",
       "      <td>4.97</td>\n",
       "      <td>Jennifer</td>\n",
       "      <td>Banks</td>\n",
       "      <td>F</td>\n",
       "      <td>561 Perry Cove</td>\n",
       "      <td>Moravian Falls</td>\n",
       "      <td>NC</td>\n",
       "      <td>28654</td>\n",
       "      <td>36.0788</td>\n",
       "      <td>-81.1781</td>\n",
       "      <td>3495</td>\n",
       "      <td>Psychologist, counselling</td>\n",
       "      <td>1988-03-09</td>\n",
       "      <td>0b242abb623afc578575680df30655b9</td>\n",
       "      <td>1325376018</td>\n",
       "      <td>36.011293</td>\n",
       "      <td>-82.048315</td>\n",
       "      <td>0</td>\n",
       "    </tr>\n",
       "    <tr>\n",
       "      <th>1</th>\n",
       "      <td>1</td>\n",
       "      <td>2019-01-01 00:00:44</td>\n",
       "      <td>630423337322</td>\n",
       "      <td>fraud_Heller, Gutmann and Zieme</td>\n",
       "      <td>grocery_pos</td>\n",
       "      <td>107.23</td>\n",
       "      <td>Stephanie</td>\n",
       "      <td>Gill</td>\n",
       "      <td>F</td>\n",
       "      <td>43039 Riley Greens Suite 393</td>\n",
       "      <td>Orient</td>\n",
       "      <td>WA</td>\n",
       "      <td>99160</td>\n",
       "      <td>48.8878</td>\n",
       "      <td>-118.2105</td>\n",
       "      <td>149</td>\n",
       "      <td>Special educational needs teacher</td>\n",
       "      <td>1978-06-21</td>\n",
       "      <td>1f76529f8574734946361c461b024d99</td>\n",
       "      <td>1325376044</td>\n",
       "      <td>49.159047</td>\n",
       "      <td>-118.186462</td>\n",
       "      <td>0</td>\n",
       "    </tr>\n",
       "    <tr>\n",
       "      <th>2</th>\n",
       "      <td>2</td>\n",
       "      <td>2019-01-01 00:00:51</td>\n",
       "      <td>38859492057661</td>\n",
       "      <td>fraud_Lind-Buckridge</td>\n",
       "      <td>entertainment</td>\n",
       "      <td>220.11</td>\n",
       "      <td>Edward</td>\n",
       "      <td>Sanchez</td>\n",
       "      <td>M</td>\n",
       "      <td>594 White Dale Suite 530</td>\n",
       "      <td>Malad City</td>\n",
       "      <td>ID</td>\n",
       "      <td>83252</td>\n",
       "      <td>42.1808</td>\n",
       "      <td>-112.2620</td>\n",
       "      <td>4154</td>\n",
       "      <td>Nature conservation officer</td>\n",
       "      <td>1962-01-19</td>\n",
       "      <td>a1a22d70485983eac12b5b88dad1cf95</td>\n",
       "      <td>1325376051</td>\n",
       "      <td>43.150704</td>\n",
       "      <td>-112.154481</td>\n",
       "      <td>0</td>\n",
       "    </tr>\n",
       "    <tr>\n",
       "      <th>3</th>\n",
       "      <td>3</td>\n",
       "      <td>2019-01-01 00:01:16</td>\n",
       "      <td>3534093764340240</td>\n",
       "      <td>fraud_Kutch, Hermiston and Farrell</td>\n",
       "      <td>gas_transport</td>\n",
       "      <td>45.00</td>\n",
       "      <td>Jeremy</td>\n",
       "      <td>White</td>\n",
       "      <td>M</td>\n",
       "      <td>9443 Cynthia Court Apt. 038</td>\n",
       "      <td>Boulder</td>\n",
       "      <td>MT</td>\n",
       "      <td>59632</td>\n",
       "      <td>46.2306</td>\n",
       "      <td>-112.1138</td>\n",
       "      <td>1939</td>\n",
       "      <td>Patent attorney</td>\n",
       "      <td>1967-01-12</td>\n",
       "      <td>6b849c168bdad6f867558c3793159a81</td>\n",
       "      <td>1325376076</td>\n",
       "      <td>47.034331</td>\n",
       "      <td>-112.561071</td>\n",
       "      <td>0</td>\n",
       "    </tr>\n",
       "    <tr>\n",
       "      <th>4</th>\n",
       "      <td>4</td>\n",
       "      <td>2019-01-01 00:03:06</td>\n",
       "      <td>375534208663984</td>\n",
       "      <td>fraud_Keeling-Crist</td>\n",
       "      <td>misc_pos</td>\n",
       "      <td>41.96</td>\n",
       "      <td>Tyler</td>\n",
       "      <td>Garcia</td>\n",
       "      <td>M</td>\n",
       "      <td>408 Bradley Rest</td>\n",
       "      <td>Doe Hill</td>\n",
       "      <td>VA</td>\n",
       "      <td>24433</td>\n",
       "      <td>38.4207</td>\n",
       "      <td>-79.4629</td>\n",
       "      <td>99</td>\n",
       "      <td>Dance movement psychotherapist</td>\n",
       "      <td>1986-03-28</td>\n",
       "      <td>a41d7549acf90789359a9aa5346dcb46</td>\n",
       "      <td>1325376186</td>\n",
       "      <td>38.674999</td>\n",
       "      <td>-78.632459</td>\n",
       "      <td>0</td>\n",
       "    </tr>\n",
       "  </tbody>\n",
       "</table>\n",
       "</div>"
      ],
      "text/plain": [
       "   Unnamed: 0 trans_date_trans_time            cc_num                            merchant       category     amt      first     last gender                        street            city state    zip      lat      long  city_pop                                job         dob                         trans_num   unix_time  merch_lat  merch_long  is_fraud\n",
       "0           0   2019-01-01 00:00:18  2703186189652095          fraud_Rippin, Kub and Mann       misc_net    4.97   Jennifer    Banks      F                561 Perry Cove  Moravian Falls    NC  28654  36.0788  -81.1781      3495          Psychologist, counselling  1988-03-09  0b242abb623afc578575680df30655b9  1325376018  36.011293  -82.048315         0\n",
       "1           1   2019-01-01 00:00:44      630423337322     fraud_Heller, Gutmann and Zieme    grocery_pos  107.23  Stephanie     Gill      F  43039 Riley Greens Suite 393          Orient    WA  99160  48.8878 -118.2105       149  Special educational needs teacher  1978-06-21  1f76529f8574734946361c461b024d99  1325376044  49.159047 -118.186462         0\n",
       "2           2   2019-01-01 00:00:51    38859492057661                fraud_Lind-Buckridge  entertainment  220.11     Edward  Sanchez      M      594 White Dale Suite 530      Malad City    ID  83252  42.1808 -112.2620      4154        Nature conservation officer  1962-01-19  a1a22d70485983eac12b5b88dad1cf95  1325376051  43.150704 -112.154481         0\n",
       "3           3   2019-01-01 00:01:16  3534093764340240  fraud_Kutch, Hermiston and Farrell  gas_transport   45.00     Jeremy    White      M   9443 Cynthia Court Apt. 038         Boulder    MT  59632  46.2306 -112.1138      1939                    Patent attorney  1967-01-12  6b849c168bdad6f867558c3793159a81  1325376076  47.034331 -112.561071         0\n",
       "4           4   2019-01-01 00:03:06   375534208663984                 fraud_Keeling-Crist       misc_pos   41.96      Tyler   Garcia      M              408 Bradley Rest        Doe Hill    VA  24433  38.4207  -79.4629        99     Dance movement psychotherapist  1986-03-28  a41d7549acf90789359a9aa5346dcb46  1325376186  38.674999  -78.632459         0"
      ]
     },
     "execution_count": 16,
     "metadata": {},
     "output_type": "execute_result"
    }
   ],
   "source": [
    "df_train.head()"
   ]
  },
  {
   "cell_type": "code",
   "execution_count": 51,
   "metadata": {},
   "outputs": [
    {
     "data": {
      "text/html": [
       "<div>\n",
       "<style scoped>\n",
       "    .dataframe tbody tr th:only-of-type {\n",
       "        vertical-align: middle;\n",
       "    }\n",
       "\n",
       "    .dataframe tbody tr th {\n",
       "        vertical-align: top;\n",
       "    }\n",
       "\n",
       "    .dataframe thead th {\n",
       "        text-align: right;\n",
       "    }\n",
       "</style>\n",
       "<table border=\"1\" class=\"dataframe\">\n",
       "  <thead>\n",
       "    <tr style=\"text-align: right;\">\n",
       "      <th></th>\n",
       "      <th>Unnamed: 0</th>\n",
       "      <th>trans_date_trans_time</th>\n",
       "      <th>cc_num</th>\n",
       "      <th>merchant</th>\n",
       "      <th>category</th>\n",
       "      <th>amt</th>\n",
       "      <th>first</th>\n",
       "      <th>last</th>\n",
       "      <th>gender</th>\n",
       "      <th>street</th>\n",
       "      <th>city</th>\n",
       "      <th>state</th>\n",
       "      <th>zip</th>\n",
       "      <th>lat</th>\n",
       "      <th>long</th>\n",
       "      <th>city_pop</th>\n",
       "      <th>job</th>\n",
       "      <th>dob</th>\n",
       "      <th>trans_num</th>\n",
       "      <th>unix_time</th>\n",
       "      <th>merch_lat</th>\n",
       "      <th>merch_long</th>\n",
       "      <th>is_fraud</th>\n",
       "      <th>media</th>\n",
       "      <th>amt_score_z</th>\n",
       "    </tr>\n",
       "  </thead>\n",
       "  <tbody>\n",
       "    <tr>\n",
       "      <th>1017</th>\n",
       "      <td>1017</td>\n",
       "      <td>2019-01-01 12:47:15</td>\n",
       "      <td>60416207185</td>\n",
       "      <td>fraud_Jones, Sawayn and Romaguera</td>\n",
       "      <td>misc_net</td>\n",
       "      <td>7.27</td>\n",
       "      <td>Mary</td>\n",
       "      <td>Diaz</td>\n",
       "      <td>F</td>\n",
       "      <td>9886 Anita Drive</td>\n",
       "      <td>Fort Washakie</td>\n",
       "      <td>WY</td>\n",
       "      <td>82514</td>\n",
       "      <td>43.0048</td>\n",
       "      <td>-108.8964</td>\n",
       "      <td>1645</td>\n",
       "      <td>Information systems manager</td>\n",
       "      <td>1986-02-17</td>\n",
       "      <td>98e3dcf98101146a577f85a34e58feec</td>\n",
       "      <td>1325422035</td>\n",
       "      <td>43.974711</td>\n",
       "      <td>-109.741904</td>\n",
       "      <td>0</td>\n",
       "      <td>56.023366</td>\n",
       "      <td>-0.397556</td>\n",
       "    </tr>\n",
       "    <tr>\n",
       "      <th>2724</th>\n",
       "      <td>2724</td>\n",
       "      <td>2019-01-02 08:44:57</td>\n",
       "      <td>60416207185</td>\n",
       "      <td>fraud_Berge LLC</td>\n",
       "      <td>gas_transport</td>\n",
       "      <td>52.94</td>\n",
       "      <td>Mary</td>\n",
       "      <td>Diaz</td>\n",
       "      <td>F</td>\n",
       "      <td>9886 Anita Drive</td>\n",
       "      <td>Fort Washakie</td>\n",
       "      <td>WY</td>\n",
       "      <td>82514</td>\n",
       "      <td>43.0048</td>\n",
       "      <td>-108.8964</td>\n",
       "      <td>1645</td>\n",
       "      <td>Information systems manager</td>\n",
       "      <td>1986-02-17</td>\n",
       "      <td>498120fc45d277f7c88e3dba79c33865</td>\n",
       "      <td>1325493897</td>\n",
       "      <td>42.018766</td>\n",
       "      <td>-109.044172</td>\n",
       "      <td>0</td>\n",
       "      <td>56.023366</td>\n",
       "      <td>-0.025143</td>\n",
       "    </tr>\n",
       "    <tr>\n",
       "      <th>2726</th>\n",
       "      <td>2726</td>\n",
       "      <td>2019-01-02 08:47:36</td>\n",
       "      <td>60416207185</td>\n",
       "      <td>fraud_Luettgen PLC</td>\n",
       "      <td>gas_transport</td>\n",
       "      <td>82.08</td>\n",
       "      <td>Mary</td>\n",
       "      <td>Diaz</td>\n",
       "      <td>F</td>\n",
       "      <td>9886 Anita Drive</td>\n",
       "      <td>Fort Washakie</td>\n",
       "      <td>WY</td>\n",
       "      <td>82514</td>\n",
       "      <td>43.0048</td>\n",
       "      <td>-108.8964</td>\n",
       "      <td>1645</td>\n",
       "      <td>Information systems manager</td>\n",
       "      <td>1986-02-17</td>\n",
       "      <td>95f514bb993151347c7acdf8505c3d62</td>\n",
       "      <td>1325494056</td>\n",
       "      <td>42.961335</td>\n",
       "      <td>-109.157564</td>\n",
       "      <td>0</td>\n",
       "      <td>56.023366</td>\n",
       "      <td>0.212477</td>\n",
       "    </tr>\n",
       "    <tr>\n",
       "      <th>2882</th>\n",
       "      <td>2882</td>\n",
       "      <td>2019-01-02 12:38:14</td>\n",
       "      <td>60416207185</td>\n",
       "      <td>fraud_Daugherty LLC</td>\n",
       "      <td>kids_pets</td>\n",
       "      <td>34.79</td>\n",
       "      <td>Mary</td>\n",
       "      <td>Diaz</td>\n",
       "      <td>F</td>\n",
       "      <td>9886 Anita Drive</td>\n",
       "      <td>Fort Washakie</td>\n",
       "      <td>WY</td>\n",
       "      <td>82514</td>\n",
       "      <td>43.0048</td>\n",
       "      <td>-108.8964</td>\n",
       "      <td>1645</td>\n",
       "      <td>Information systems manager</td>\n",
       "      <td>1986-02-17</td>\n",
       "      <td>4f0c1a14e0aa7eb56a490780ef9268c5</td>\n",
       "      <td>1325507894</td>\n",
       "      <td>42.228227</td>\n",
       "      <td>-108.747683</td>\n",
       "      <td>0</td>\n",
       "      <td>56.023366</td>\n",
       "      <td>-0.173146</td>\n",
       "    </tr>\n",
       "    <tr>\n",
       "      <th>2907</th>\n",
       "      <td>2907</td>\n",
       "      <td>2019-01-02 13:10:46</td>\n",
       "      <td>60416207185</td>\n",
       "      <td>fraud_Beier and Sons</td>\n",
       "      <td>home</td>\n",
       "      <td>27.18</td>\n",
       "      <td>Mary</td>\n",
       "      <td>Diaz</td>\n",
       "      <td>F</td>\n",
       "      <td>9886 Anita Drive</td>\n",
       "      <td>Fort Washakie</td>\n",
       "      <td>WY</td>\n",
       "      <td>82514</td>\n",
       "      <td>43.0048</td>\n",
       "      <td>-108.8964</td>\n",
       "      <td>1645</td>\n",
       "      <td>Information systems manager</td>\n",
       "      <td>1986-02-17</td>\n",
       "      <td>3b2ebd3af508afba959640893e1e82bc</td>\n",
       "      <td>1325509846</td>\n",
       "      <td>43.321745</td>\n",
       "      <td>-108.091143</td>\n",
       "      <td>0</td>\n",
       "      <td>56.023366</td>\n",
       "      <td>-0.235201</td>\n",
       "    </tr>\n",
       "  </tbody>\n",
       "</table>\n",
       "</div>"
      ],
      "text/plain": [
       "      Unnamed: 0 trans_date_trans_time       cc_num                           merchant       category    amt first  last gender            street           city state    zip      lat      long  city_pop                          job         dob                         trans_num   unix_time  merch_lat  merch_long  is_fraud      media  amt_score_z\n",
       "1017        1017   2019-01-01 12:47:15  60416207185  fraud_Jones, Sawayn and Romaguera       misc_net   7.27  Mary  Diaz      F  9886 Anita Drive  Fort Washakie    WY  82514  43.0048 -108.8964      1645  Information systems manager  1986-02-17  98e3dcf98101146a577f85a34e58feec  1325422035  43.974711 -109.741904         0  56.023366    -0.397556\n",
       "2724        2724   2019-01-02 08:44:57  60416207185                    fraud_Berge LLC  gas_transport  52.94  Mary  Diaz      F  9886 Anita Drive  Fort Washakie    WY  82514  43.0048 -108.8964      1645  Information systems manager  1986-02-17  498120fc45d277f7c88e3dba79c33865  1325493897  42.018766 -109.044172         0  56.023366    -0.025143\n",
       "2726        2726   2019-01-02 08:47:36  60416207185                 fraud_Luettgen PLC  gas_transport  82.08  Mary  Diaz      F  9886 Anita Drive  Fort Washakie    WY  82514  43.0048 -108.8964      1645  Information systems manager  1986-02-17  95f514bb993151347c7acdf8505c3d62  1325494056  42.961335 -109.157564         0  56.023366     0.212477\n",
       "2882        2882   2019-01-02 12:38:14  60416207185                fraud_Daugherty LLC      kids_pets  34.79  Mary  Diaz      F  9886 Anita Drive  Fort Washakie    WY  82514  43.0048 -108.8964      1645  Information systems manager  1986-02-17  4f0c1a14e0aa7eb56a490780ef9268c5  1325507894  42.228227 -108.747683         0  56.023366    -0.173146\n",
       "2907        2907   2019-01-02 13:10:46  60416207185               fraud_Beier and Sons           home  27.18  Mary  Diaz      F  9886 Anita Drive  Fort Washakie    WY  82514  43.0048 -108.8964      1645  Information systems manager  1986-02-17  3b2ebd3af508afba959640893e1e82bc  1325509846  43.321745 -108.091143         0  56.023366    -0.235201"
      ]
     },
     "execution_count": 51,
     "metadata": {},
     "output_type": "execute_result"
    }
   ],
   "source": [
    "df_train['trans_date_trans_time'] = pd.to_datetime(df_train['trans_date_trans_time'])\n",
    "\n",
    "\n",
    "df_train.sort_values(by=['cc_num' ,'trans_date_trans_time'], ascending=True, inplace=True)\n",
    "\n",
    "\n",
    "agrupado_cc_valor = df_train.groupby('cc_num')['amt']\n",
    "\n",
    "media_cartao = agrupado_cc_valor.transform('mean')\n",
    "desv_pad_cartao = agrupado_cc_valor.transform('std')\n",
    "\n",
    "df_train['media'] = media_cartao\n",
    "\n",
    "df_train['amt_score_z'] = (df_train['amt'] - media_cartao) / desv_pad_cartao\n",
    "\n",
    "df_train.head()"
   ]
  },
  {
   "cell_type": "code",
   "execution_count": 57,
   "metadata": {},
   "outputs": [
    {
     "data": {
      "text/plain": [
       "-0.018655857471345974"
      ]
     },
     "execution_count": 57,
     "metadata": {},
     "output_type": "execute_result"
    }
   ],
   "source": [
    "df_train.loc[df_train.is_fraud == 0, 'amt_score_z'].mean()"
   ]
  },
  {
   "cell_type": "code",
   "execution_count": 61,
   "metadata": {},
   "outputs": [
    {
     "data": {
      "text/html": [
       "<div>\n",
       "<style scoped>\n",
       "    .dataframe tbody tr th:only-of-type {\n",
       "        vertical-align: middle;\n",
       "    }\n",
       "\n",
       "    .dataframe tbody tr th {\n",
       "        vertical-align: top;\n",
       "    }\n",
       "\n",
       "    .dataframe thead th {\n",
       "        text-align: right;\n",
       "    }\n",
       "</style>\n",
       "<table border=\"1\" class=\"dataframe\">\n",
       "  <thead>\n",
       "    <tr style=\"text-align: right;\">\n",
       "      <th></th>\n",
       "      <th>Unnamed: 0</th>\n",
       "      <th>trans_date_trans_time</th>\n",
       "      <th>cc_num</th>\n",
       "      <th>amt</th>\n",
       "      <th>zip</th>\n",
       "      <th>lat</th>\n",
       "      <th>long</th>\n",
       "      <th>city_pop</th>\n",
       "      <th>unix_time</th>\n",
       "      <th>merch_lat</th>\n",
       "      <th>merch_long</th>\n",
       "      <th>is_fraud</th>\n",
       "      <th>media</th>\n",
       "      <th>amt_score_z</th>\n",
       "    </tr>\n",
       "  </thead>\n",
       "  <tbody>\n",
       "    <tr>\n",
       "      <th>Unnamed: 0</th>\n",
       "      <td>1.000000</td>\n",
       "      <td>0.998966</td>\n",
       "      <td>3.857663e-04</td>\n",
       "      <td>-0.000251</td>\n",
       "      <td>7.093943e-04</td>\n",
       "      <td>6.016648e-04</td>\n",
       "      <td>-6.762618e-04</td>\n",
       "      <td>-1.678021e-03</td>\n",
       "      <td>0.998971</td>\n",
       "      <td>0.000541</td>\n",
       "      <td>-0.000671</td>\n",
       "      <td>-0.004767</td>\n",
       "      <td>-6.735765e-04</td>\n",
       "      <td>-7.005652e-04</td>\n",
       "    </tr>\n",
       "    <tr>\n",
       "      <th>trans_date_trans_time</th>\n",
       "      <td>0.998966</td>\n",
       "      <td>1.000000</td>\n",
       "      <td>3.537740e-04</td>\n",
       "      <td>-0.000285</td>\n",
       "      <td>6.669846e-04</td>\n",
       "      <td>6.358529e-04</td>\n",
       "      <td>-6.382351e-04</td>\n",
       "      <td>-1.715644e-03</td>\n",
       "      <td>0.999996</td>\n",
       "      <td>0.000564</td>\n",
       "      <td>-0.000632</td>\n",
       "      <td>-0.005041</td>\n",
       "      <td>-7.667477e-04</td>\n",
       "      <td>-7.605403e-04</td>\n",
       "    </tr>\n",
       "    <tr>\n",
       "      <th>cc_num</th>\n",
       "      <td>0.000386</td>\n",
       "      <td>0.000354</td>\n",
       "      <td>1.000000e+00</td>\n",
       "      <td>0.001769</td>\n",
       "      <td>4.145895e-02</td>\n",
       "      <td>-5.927062e-02</td>\n",
       "      <td>-4.827780e-02</td>\n",
       "      <td>-8.991067e-03</td>\n",
       "      <td>0.000354</td>\n",
       "      <td>-0.058942</td>\n",
       "      <td>-0.048252</td>\n",
       "      <td>-0.000981</td>\n",
       "      <td>1.461406e-02</td>\n",
       "      <td>-3.803664e-18</td>\n",
       "    </tr>\n",
       "    <tr>\n",
       "      <th>amt</th>\n",
       "      <td>-0.000251</td>\n",
       "      <td>-0.000285</td>\n",
       "      <td>1.769400e-03</td>\n",
       "      <td>1.000000</td>\n",
       "      <td>1.843402e-03</td>\n",
       "      <td>-1.925520e-03</td>\n",
       "      <td>-1.874756e-04</td>\n",
       "      <td>5.818284e-03</td>\n",
       "      <td>-0.000293</td>\n",
       "      <td>-0.001873</td>\n",
       "      <td>-0.000151</td>\n",
       "      <td>0.219404</td>\n",
       "      <td>1.210752e-01</td>\n",
       "      <td>8.812500e-01</td>\n",
       "    </tr>\n",
       "    <tr>\n",
       "      <th>zip</th>\n",
       "      <td>0.000709</td>\n",
       "      <td>0.000667</td>\n",
       "      <td>4.145895e-02</td>\n",
       "      <td>0.001843</td>\n",
       "      <td>1.000000e+00</td>\n",
       "      <td>-1.142904e-01</td>\n",
       "      <td>-9.097321e-01</td>\n",
       "      <td>7.846706e-02</td>\n",
       "      <td>0.000670</td>\n",
       "      <td>-0.113561</td>\n",
       "      <td>-0.908924</td>\n",
       "      <td>-0.002162</td>\n",
       "      <td>1.522527e-02</td>\n",
       "      <td>4.899489e-18</td>\n",
       "    </tr>\n",
       "    <tr>\n",
       "      <th>lat</th>\n",
       "      <td>0.000602</td>\n",
       "      <td>0.000636</td>\n",
       "      <td>-5.927062e-02</td>\n",
       "      <td>-0.001926</td>\n",
       "      <td>-1.142904e-01</td>\n",
       "      <td>1.000000e+00</td>\n",
       "      <td>-1.553342e-02</td>\n",
       "      <td>-1.557296e-01</td>\n",
       "      <td>0.000632</td>\n",
       "      <td>0.993592</td>\n",
       "      <td>-0.015509</td>\n",
       "      <td>0.001894</td>\n",
       "      <td>-1.590351e-02</td>\n",
       "      <td>8.189004e-19</td>\n",
       "    </tr>\n",
       "    <tr>\n",
       "      <th>long</th>\n",
       "      <td>-0.000676</td>\n",
       "      <td>-0.000638</td>\n",
       "      <td>-4.827780e-02</td>\n",
       "      <td>-0.000187</td>\n",
       "      <td>-9.097321e-01</td>\n",
       "      <td>-1.553342e-02</td>\n",
       "      <td>1.000000e+00</td>\n",
       "      <td>-5.271464e-02</td>\n",
       "      <td>-0.000642</td>\n",
       "      <td>-0.015452</td>\n",
       "      <td>0.999120</td>\n",
       "      <td>0.001721</td>\n",
       "      <td>-1.548423e-03</td>\n",
       "      <td>-1.347567e-17</td>\n",
       "    </tr>\n",
       "    <tr>\n",
       "      <th>city_pop</th>\n",
       "      <td>-0.001678</td>\n",
       "      <td>-0.001716</td>\n",
       "      <td>-8.991067e-03</td>\n",
       "      <td>0.005818</td>\n",
       "      <td>7.846706e-02</td>\n",
       "      <td>-1.557296e-01</td>\n",
       "      <td>-5.271464e-02</td>\n",
       "      <td>1.000000e+00</td>\n",
       "      <td>-0.001714</td>\n",
       "      <td>-0.154781</td>\n",
       "      <td>-0.052687</td>\n",
       "      <td>0.002136</td>\n",
       "      <td>4.805514e-02</td>\n",
       "      <td>3.078883e-18</td>\n",
       "    </tr>\n",
       "    <tr>\n",
       "      <th>unix_time</th>\n",
       "      <td>0.998971</td>\n",
       "      <td>0.999996</td>\n",
       "      <td>3.536641e-04</td>\n",
       "      <td>-0.000293</td>\n",
       "      <td>6.704698e-04</td>\n",
       "      <td>6.320844e-04</td>\n",
       "      <td>-6.417884e-04</td>\n",
       "      <td>-1.714003e-03</td>\n",
       "      <td>1.000000</td>\n",
       "      <td>0.000561</td>\n",
       "      <td>-0.000635</td>\n",
       "      <td>-0.005078</td>\n",
       "      <td>-7.851340e-04</td>\n",
       "      <td>-7.704697e-04</td>\n",
       "    </tr>\n",
       "    <tr>\n",
       "      <th>merch_lat</th>\n",
       "      <td>0.000541</td>\n",
       "      <td>0.000564</td>\n",
       "      <td>-5.894213e-02</td>\n",
       "      <td>-0.001873</td>\n",
       "      <td>-1.135614e-01</td>\n",
       "      <td>9.935924e-01</td>\n",
       "      <td>-1.545181e-02</td>\n",
       "      <td>-1.547814e-01</td>\n",
       "      <td>0.000561</td>\n",
       "      <td>1.000000</td>\n",
       "      <td>-0.015431</td>\n",
       "      <td>0.001741</td>\n",
       "      <td>-1.585275e-02</td>\n",
       "      <td>2.607635e-05</td>\n",
       "    </tr>\n",
       "    <tr>\n",
       "      <th>merch_long</th>\n",
       "      <td>-0.000671</td>\n",
       "      <td>-0.000632</td>\n",
       "      <td>-4.825200e-02</td>\n",
       "      <td>-0.000151</td>\n",
       "      <td>-9.089240e-01</td>\n",
       "      <td>-1.550940e-02</td>\n",
       "      <td>9.991196e-01</td>\n",
       "      <td>-5.268679e-02</td>\n",
       "      <td>-0.000635</td>\n",
       "      <td>-0.015431</td>\n",
       "      <td>1.000000</td>\n",
       "      <td>0.001721</td>\n",
       "      <td>-1.591628e-03</td>\n",
       "      <td>3.297508e-05</td>\n",
       "    </tr>\n",
       "    <tr>\n",
       "      <th>is_fraud</th>\n",
       "      <td>-0.004767</td>\n",
       "      <td>-0.005041</td>\n",
       "      <td>-9.814556e-04</td>\n",
       "      <td>0.219404</td>\n",
       "      <td>-2.161907e-03</td>\n",
       "      <td>1.893956e-03</td>\n",
       "      <td>1.720813e-03</td>\n",
       "      <td>2.135902e-03</td>\n",
       "      <td>-0.005078</td>\n",
       "      <td>0.001741</td>\n",
       "      <td>0.001721</td>\n",
       "      <td>1.000000</td>\n",
       "      <td>2.099596e-01</td>\n",
       "      <td>2.445854e-01</td>\n",
       "    </tr>\n",
       "    <tr>\n",
       "      <th>media</th>\n",
       "      <td>-0.000674</td>\n",
       "      <td>-0.000767</td>\n",
       "      <td>1.461406e-02</td>\n",
       "      <td>0.121075</td>\n",
       "      <td>1.522527e-02</td>\n",
       "      <td>-1.590351e-02</td>\n",
       "      <td>-1.548423e-03</td>\n",
       "      <td>4.805514e-02</td>\n",
       "      <td>-0.000785</td>\n",
       "      <td>-0.015853</td>\n",
       "      <td>-0.001592</td>\n",
       "      <td>0.209960</td>\n",
       "      <td>1.000000e+00</td>\n",
       "      <td>5.726431e-18</td>\n",
       "    </tr>\n",
       "    <tr>\n",
       "      <th>amt_score_z</th>\n",
       "      <td>-0.000701</td>\n",
       "      <td>-0.000761</td>\n",
       "      <td>-3.803664e-18</td>\n",
       "      <td>0.881250</td>\n",
       "      <td>4.899489e-18</td>\n",
       "      <td>8.189004e-19</td>\n",
       "      <td>-1.347567e-17</td>\n",
       "      <td>3.078883e-18</td>\n",
       "      <td>-0.000770</td>\n",
       "      <td>0.000026</td>\n",
       "      <td>0.000033</td>\n",
       "      <td>0.244585</td>\n",
       "      <td>5.726431e-18</td>\n",
       "      <td>1.000000e+00</td>\n",
       "    </tr>\n",
       "  </tbody>\n",
       "</table>\n",
       "</div>"
      ],
      "text/plain": [
       "                       Unnamed: 0  trans_date_trans_time        cc_num       amt           zip           lat          long      city_pop  unix_time  merch_lat  merch_long  is_fraud         media   amt_score_z\n",
       "Unnamed: 0               1.000000               0.998966  3.857663e-04 -0.000251  7.093943e-04  6.016648e-04 -6.762618e-04 -1.678021e-03   0.998971   0.000541   -0.000671 -0.004767 -6.735765e-04 -7.005652e-04\n",
       "trans_date_trans_time    0.998966               1.000000  3.537740e-04 -0.000285  6.669846e-04  6.358529e-04 -6.382351e-04 -1.715644e-03   0.999996   0.000564   -0.000632 -0.005041 -7.667477e-04 -7.605403e-04\n",
       "cc_num                   0.000386               0.000354  1.000000e+00  0.001769  4.145895e-02 -5.927062e-02 -4.827780e-02 -8.991067e-03   0.000354  -0.058942   -0.048252 -0.000981  1.461406e-02 -3.803664e-18\n",
       "amt                     -0.000251              -0.000285  1.769400e-03  1.000000  1.843402e-03 -1.925520e-03 -1.874756e-04  5.818284e-03  -0.000293  -0.001873   -0.000151  0.219404  1.210752e-01  8.812500e-01\n",
       "zip                      0.000709               0.000667  4.145895e-02  0.001843  1.000000e+00 -1.142904e-01 -9.097321e-01  7.846706e-02   0.000670  -0.113561   -0.908924 -0.002162  1.522527e-02  4.899489e-18\n",
       "lat                      0.000602               0.000636 -5.927062e-02 -0.001926 -1.142904e-01  1.000000e+00 -1.553342e-02 -1.557296e-01   0.000632   0.993592   -0.015509  0.001894 -1.590351e-02  8.189004e-19\n",
       "long                    -0.000676              -0.000638 -4.827780e-02 -0.000187 -9.097321e-01 -1.553342e-02  1.000000e+00 -5.271464e-02  -0.000642  -0.015452    0.999120  0.001721 -1.548423e-03 -1.347567e-17\n",
       "city_pop                -0.001678              -0.001716 -8.991067e-03  0.005818  7.846706e-02 -1.557296e-01 -5.271464e-02  1.000000e+00  -0.001714  -0.154781   -0.052687  0.002136  4.805514e-02  3.078883e-18\n",
       "unix_time                0.998971               0.999996  3.536641e-04 -0.000293  6.704698e-04  6.320844e-04 -6.417884e-04 -1.714003e-03   1.000000   0.000561   -0.000635 -0.005078 -7.851340e-04 -7.704697e-04\n",
       "merch_lat                0.000541               0.000564 -5.894213e-02 -0.001873 -1.135614e-01  9.935924e-01 -1.545181e-02 -1.547814e-01   0.000561   1.000000   -0.015431  0.001741 -1.585275e-02  2.607635e-05\n",
       "merch_long              -0.000671              -0.000632 -4.825200e-02 -0.000151 -9.089240e-01 -1.550940e-02  9.991196e-01 -5.268679e-02  -0.000635  -0.015431    1.000000  0.001721 -1.591628e-03  3.297508e-05\n",
       "is_fraud                -0.004767              -0.005041 -9.814556e-04  0.219404 -2.161907e-03  1.893956e-03  1.720813e-03  2.135902e-03  -0.005078   0.001741    0.001721  1.000000  2.099596e-01  2.445854e-01\n",
       "media                   -0.000674              -0.000767  1.461406e-02  0.121075  1.522527e-02 -1.590351e-02 -1.548423e-03  4.805514e-02  -0.000785  -0.015853   -0.001592  0.209960  1.000000e+00  5.726431e-18\n",
       "amt_score_z             -0.000701              -0.000761 -3.803664e-18  0.881250  4.899489e-18  8.189004e-19 -1.347567e-17  3.078883e-18  -0.000770   0.000026    0.000033  0.244585  5.726431e-18  1.000000e+00"
      ]
     },
     "execution_count": 61,
     "metadata": {},
     "output_type": "execute_result"
    }
   ],
   "source": [
    "df_train.select_dtypes(exclude='object').corr(method='pearson')"
   ]
  },
  {
   "cell_type": "code",
   "execution_count": null,
   "metadata": {},
   "outputs": [],
   "source": [
    "# Preparação dos dados e divisão em treino/teste\n",
    "features = df_train[['amt', 'category', 'gender', 'city', 'state', 'zip', 'lat', 'long', 'unix_time', 'merch_lat', 'merch_long', 'ano', 'mes', 'dia_da_semana', 'hora', 'minuto', 'segundo']]\n",
    "labels = df_train['is_fraud']\n",
    "\n",
    "X_train, X_test, y_train, y_test = train_test_split(features, labels, test_size=0.3, random_state=42)\n"
   ]
  },
  {
   "cell_type": "code",
   "execution_count": null,
   "metadata": {},
   "outputs": [],
   "source": [
    "# Definição de transformadores para Pré-processamento\n",
    "numericas_continuas = ['amt', 'zip', 'lat', 'long', 'unix_time', 'merch_lat', 'merch_long', 'ano', 'mes', 'hora', 'minuto', 'segundo']\n",
    "string_categoricas = ['category', 'gender', 'city', 'state', 'dia_da_semana']"
   ]
  },
  {
   "cell_type": "markdown",
   "metadata": {},
   "source": [
    "# PIPELINE"
   ]
  },
  {
   "cell_type": "code",
   "execution_count": null,
   "metadata": {},
   "outputs": [],
   "source": [
    "\n",
    "# Transformadores para variáveis numéricas contínuas\n",
    "numeric_transformer = StandardScaler()\n",
    "\n",
    "# Transformadores para variáveis categóricas\n",
    "categorical_transformer = OneHotEncoder()\n",
    "\n",
    "# Lista de tuplas indicando os transformadores a serem aplicados a cada conjunto de features\n",
    "transformers = [\n",
    "    ('num_continuas', numeric_transformer, numericas_continuas),\n",
    "    ('str_categoricas', categorical_transformer, string_categoricas)\n",
    "]\n",
    "\n",
    "# Criação do ColumnTransformer integrado ao Pipeline\n",
    "preprocessor = ColumnTransformer(transformers=transformers)\n"
   ]
  },
  {
   "cell_type": "markdown",
   "metadata": {},
   "source": [
    "# TREINAMENTO DO MODELO"
   ]
  },
  {
   "cell_type": "code",
   "execution_count": null,
   "metadata": {},
   "outputs": [],
   "source": [
    "# Treinamento do pré-processador\n",
    "X_train_transformed = preprocessor.fit_transform(X_train)\n",
    "X_test_transformed = preprocessor.transform(X_test)\n"
   ]
  },
  {
   "cell_type": "markdown",
   "metadata": {},
   "source": [
    "# CLASSIFICADORES"
   ]
  },
  {
   "cell_type": "code",
   "execution_count": null,
   "metadata": {},
   "outputs": [],
   "source": [
    "# Lista de classificadores\n",
    "classifiers_list = [\n",
    "    LogisticRegression(),\n",
    "    DecisionTreeClassifier(),\n",
    "    RandomForestClassifier(),\n",
    "    AdaBoostClassifier(),\n",
    "    GradientBoostingClassifier()\n",
    "]\n"
   ]
  },
  {
   "cell_type": "code",
   "execution_count": null,
   "metadata": {},
   "outputs": [],
   "source": [
    "# Função para treinar, avaliar e prever para cada classificador\n",
    "def train_evaluate_and_predict(classifier, X_train_transformed, y_train, X_test_transformed, y_test):\n",
    "    pipe = Pipeline(steps=[('classifier', classifier)])\n",
    "    pipe.fit(X_train_transformed, y_train)\n",
    "    y_pred = pipe.predict(X_test_transformed)\n",
    "    \n",
    "    accuracy = accuracy_score(y_test, y_pred)   \n",
    "    precision = precision_score(y_test, y_pred)\n",
    "    recall = recall_score(y_test, y_pred)\n",
    "    f1 = f1_score(y_test, y_pred)\n",
    "    \n",
    "    result = {\n",
    "        \"Classifier\": classifier.__class__.__name__,\n",
    "        \"Accuracy\": accuracy,\n",
    "        \"Precision\": precision,\n",
    "        \"Recall\": recall,\n",
    "        \"F1-score\": f1,\n",
    "        \"Predictions\": y_pred\n",
    "    }\n",
    "\n",
    "    # Adicionar métricas sem as previsões\n",
    "    result_without_predictions = result.copy()\n",
    "    result_without_predictions.pop(\"Predictions\", None)\n",
    "\n",
    "    return result, result_without_predictions\n",
    "\n",
    "# Execução em paralelo para todos os classificadores\n",
    "results, results_without_predictions = zip(*Parallel(n_jobs=-1)(\n",
    "    delayed(train_evaluate_and_predict)(\n",
    "        classifier, X_train_transformed, y_train, X_test_transformed, y_test\n",
    "    ) for classifier in classifiers_list\n",
    "))"
   ]
  },
  {
   "cell_type": "markdown",
   "metadata": {},
   "source": [
    "# MÉTRICAS"
   ]
  },
  {
   "cell_type": "code",
   "execution_count": null,
   "metadata": {},
   "outputs": [],
   "source": [
    "# Exiba os resultados sem as previsões\n",
    "print(\"\\nResults without Predictions:\")\n",
    "for result in results_without_predictions:\n",
    "    print(result)\n",
    "    print(\"---\")  # Adiciona uma linha separadora entre os resultados de diferentes classificadores\n"
   ]
  },
  {
   "cell_type": "code",
   "execution_count": null,
   "metadata": {},
   "outputs": [],
   "source": [
    "# Escolha o classificador com a maior F1-score (média harmônica de precisão e recall)\n",
    "best_classifier_f1 = max(results_without_predictions, key=lambda x: (2 * x['Precision'] * x['Recall']) / (x['Precision'] + x['Recall']))\n",
    "\n",
    "# Exiba o resultado\n",
    "print(\"Melhor classificador (baseado no F1-score):\")\n",
    "print(best_classifier_f1)\n"
   ]
  },
  {
   "cell_type": "code",
   "execution_count": null,
   "metadata": {},
   "outputs": [],
   "source": [
    "# Defina pesos para as métricas (pode ajustar conforme necessário)\n",
    "weights = {\n",
    "    'Accuracy': 1,\n",
    "    'Precision': 1,\n",
    "    'Recall': 1,\n",
    "    'F1-score': 1\n",
    "}\n",
    "\n",
    "# Crie uma lista para armazenar as pontuações agregadas de cada classificador\n",
    "scores = []\n",
    "\n",
    "# Calcule as pontuações agregadas para cada classificador\n",
    "for result in results_without_predictions:\n",
    "    classifier_name = result['Classifier']\n",
    "    score = sum(result[metric] * weights[metric] for metric in weights) / sum(weights.values())\n",
    "    scores.append({'Classifier': classifier_name, 'Score': score})\n",
    "\n",
    "# Encontre o classificador com a pontuação mais alta\n",
    "best_classifier = max(scores, key=lambda x: x['Score'])\n",
    "\n",
    "# Exiba o resultado\n",
    "print(\"Melhor classificador (baseado na média ponderada das métricas):\")\n",
    "print(best_classifier)\n"
   ]
  },
  {
   "cell_type": "markdown",
   "metadata": {},
   "source": [
    "# CROSS VALIDATION "
   ]
  },
  {
   "cell_type": "code",
   "execution_count": null,
   "metadata": {},
   "outputs": [],
   "source": [
    "from sklearn.model_selection import StratifiedKFold, cross_validate\n",
    "from sklearn.ensemble import RandomForestClassifier\n",
    "from sklearn.pipeline import Pipeline\n",
    "\n",
    "# Criar o pipeline com o classificador\n",
    "classifier_cv = RandomForestClassifier()\n",
    "\n",
    "# Criar o pipeline com o classificador\n",
    "pipe_cv = Pipeline(steps=[('classifier', classifier_cv)])\n",
    "\n",
    "# Definir a estratégia de validação cruzada (Stratified K-Fold)\n",
    "stratified_kfold = StratifiedKFold(n_splits=5, shuffle=True, random_state=42)\n",
    "\n",
    "# Definir as métricas desejadas\n",
    "scoring_metrics = ['accuracy', 'precision', 'recall', 'f1']\n",
    "\n",
    "# Executar a validação cruzada e calcular as métricas\n",
    "cv_results = cross_validate(pipe_cv, X_train_transformed, y_train, cv=stratified_kfold, scoring=scoring_metrics)\n",
    "\n",
    "# Exibir os resultados\n",
    "for metric in scoring_metrics:\n",
    "    print(f\"{metric.capitalize()} médio na validação cruzada:\", cv_results[f'test_{metric}'].mean())\n",
    "    print(f\"Desvio padrão dos {metric.capitalize()} na validação cruzada:\", cv_results[f'test_{metric}'].std())\n",
    "    print(\"---\")\n"
   ]
  },
  {
   "cell_type": "markdown",
   "metadata": {},
   "source": [
    "# MATRIZ DE CONFUSÃO PARA TODOS OS INDICADORES (Não usei a cv pra esse conjunto, apenas a validação normal)"
   ]
  },
  {
   "cell_type": "code",
   "execution_count": null,
   "metadata": {},
   "outputs": [],
   "source": [
    "# Lista de todas as colunas de previsão\n",
    "prediction_columns = [\n",
    "    'LogisticRegression_Prediction',\n",
    "    'DecisionTreeClassifier_Prediction',\n",
    "    'RandomForestClassifier_Prediction',\n",
    "    'AdaBoostClassifier_Prediction',\n",
    "    'GradientBoostingClassifier_Prediction'\n",
    "]\n",
    "\n",
    "# Loop para criar matrizes de confusão interativas para cada classificador\n",
    "for classifier_column in prediction_columns:\n",
    "    # Criar a matriz de confusão\n",
    "    conf_matrix = confusion_matrix(df_predictions['is_fraud'], df_predictions[classifier_column])\n",
    "\n",
    "    # Configurações do heatmap\n",
    "    heatmap = ff.create_annotated_heatmap(\n",
    "        z=conf_matrix,\n",
    "        x=['Not Fraud', 'Fraud'],\n",
    "        y=['Not Fraud', 'Fraud'],\n",
    "        colorscale='Blues'\n",
    "    )\n",
    "\n",
    "    # Atualizar layout para adicionar rótulos\n",
    "    heatmap.update_layout(\n",
    "        xaxis=dict(title='Predicted'),\n",
    "        yaxis=dict(title='True'),\n",
    "        title=f'Confusion Matrix: is_fraud vs. {classifier_column}'\n",
    "    )\n",
    "\n",
    "    # Exibir o gráfico\n",
    "    heatmap.show()\n"
   ]
  },
  {
   "cell_type": "markdown",
   "metadata": {},
   "source": [
    "# DATA FRAME FINAL (AQUI É UM DF QUE TEM OS DADOS NORMAIS E OS DADOS DE PREDIÇÃO DOS 5 CLASSIFICADORES (Nome e predição)) "
   ]
  },
  {
   "cell_type": "code",
   "execution_count": null,
   "metadata": {},
   "outputs": [],
   "source": [
    "# Criação do DataFrame final\n",
    "df_predictions = pd.DataFrame(df_train)  # Copiando o DataFrame original\n",
    "\n",
    "# Adição das previsões ao DataFrame final\n",
    "for result in results:\n",
    "    classifier_name = result[\"Classifier\"]\n",
    "    predictions = result[\"Predictions\"]\n",
    "    \n",
    "    # Ajuste para garantir que o número de previsões corresponda ao número de linhas no DataFrame original\n",
    "    if len(predictions) != len(df_predictions):\n",
    "        predictions = [0] * (len(df_predictions) - len(predictions)) + list(predictions)\n",
    "\n",
    "    df_predictions[f\"{classifier_name}_Prediction\"] = predictions\n"
   ]
  },
  {
   "cell_type": "markdown",
   "metadata": {},
   "source": [
    "# SALVANDO O ARQUIVO JÁ TRATADO"
   ]
  },
  {
   "cell_type": "code",
   "execution_count": null,
   "metadata": {},
   "outputs": [],
   "source": [
    "# DataFrame\n",
    "df_predictions.to_csv(\n",
    "    'V.Final.csv',  # Caminho e nome do arquivo\n",
    "    index=False,  # Não incluir índices no arquivo CSV\n",
    "    encoding='utf-8',  # Codificação do arquivo (pode ser 'utf-8', 'latin1', etc.)\n",
    "    sep=',',  # Delimitador de colunas (pode ser ',', ';', '\\t', etc.)\n",
    "    header=True  # Incluir cabeçalho no arquivo CSV\n",
    ")\n"
   ]
  }
 ],
 "metadata": {
  "kernelspec": {
   "display_name": "Python 3 (ipykernel)",
   "language": "python",
   "name": "python3"
  },
  "language_info": {
   "codemirror_mode": {
    "name": "ipython",
    "version": 3
   },
   "file_extension": ".py",
   "mimetype": "text/x-python",
   "name": "python",
   "nbconvert_exporter": "python",
   "pygments_lexer": "ipython3",
   "version": "3.11.6"
  }
 },
 "nbformat": 4,
 "nbformat_minor": 4
}
