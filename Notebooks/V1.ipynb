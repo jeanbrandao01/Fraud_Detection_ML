{
 "cells": [
  {
   "cell_type": "code",
   "execution_count": 6,
   "metadata": {},
   "outputs": [],
   "source": [
    "import pandas as pd\n",
    "import numpy as np\n",
    "import requests\n",
    "import io"
   ]
  },
  {
   "cell_type": "code",
   "execution_count": 7,
   "metadata": {},
   "outputs": [],
   "source": [
    "# URL do arquivo fraudTest no GitHub\n",
    "github_url = 'https://github.com/jeanbrandao01/Fraud_Detection_ML/tree/dev/Data/fraudTest.csv'\n",
    "\n",
    "# Faça uma solicitação GET para obter o conteúdo do arquivo\n",
    "response = requests.get(github_url)\n",
    "\n",
    "# Verifique se a solicitação foi bem-sucedida (código de status 200)\n",
    "if response.status_code == 200:\n",
    "    # O conteúdo do arquivo está em response.text\n",
    "    conteudo_do_arquivo = response.text\n",
    "\n",
    "    # Agora você pode processar o conteúdo conforme necessário, por exemplo, com pandas\n",
    "    df = pd.read_csv(io.StringIO(conteudo_do_arquivo))  # Importa o CSV com pandas\n",
    "\n",
    "    # Faça o que precisar com o DataFrame df\n",
    "else:\n",
    "    print(\"Falha ao recuperar o arquivo do GitHub. Código de status:\", response.status_code)\n"
   ]
  },
  {
   "cell_type": "code",
   "execution_count": 8,
   "metadata": {},
   "outputs": [
    {
     "data": {
      "text/html": [
       "<div>\n",
       "<style scoped>\n",
       "    .dataframe tbody tr th:only-of-type {\n",
       "        vertical-align: middle;\n",
       "    }\n",
       "\n",
       "    .dataframe tbody tr th {\n",
       "        vertical-align: top;\n",
       "    }\n",
       "\n",
       "    .dataframe thead th {\n",
       "        text-align: right;\n",
       "    }\n",
       "</style>\n",
       "<table border=\"1\" class=\"dataframe\">\n",
       "  <thead>\n",
       "    <tr style=\"text-align: right;\">\n",
       "      <th></th>\n",
       "      <th>{\"payload\":{\"allShortcutsEnabled\":false</th>\n",
       "      <th>fileTree:{\"Data\":{\"items\":[{\"name\":\".gitattributes\"</th>\n",
       "      <th>path:\"Data/.gitattributes\"</th>\n",
       "      <th>contentType:\"file\"}</th>\n",
       "      <th>{\"name\":\".gitkeep\"</th>\n",
       "      <th>path:\"Data/.gitkeep\"</th>\n",
       "      <th>contentType:\"file\"}.1</th>\n",
       "      <th>{\"name\":\"fraudTest.csv\"</th>\n",
       "      <th>path:\"Data/fraudTest.csv\"</th>\n",
       "      <th>contentType:\"file\"}.2</th>\n",
       "      <th>...</th>\n",
       "      <th>truncated:false</th>\n",
       "      <th>viewable:false</th>\n",
       "      <th>workflowRedirectUrl:null</th>\n",
       "      <th>symbols:{\"timedOut\":false</th>\n",
       "      <th>notAnalyzed:true</th>\n",
       "      <th>symbols:[]}}</th>\n",
       "      <th>copilotInfo:null</th>\n",
       "      <th>csrf_tokens:{\"/jeanbrandao01/Fraud_Detection_ML/branches\":{\"post\":\"zrO8EEvjRACT9WMvvXr9RMQnqr1hS1lliIiPgakjXcx4X61TjLoYmQe0RttC4ZWJRWc5dW0vC3ZQp-x06Ry7iw\"}</th>\n",
       "      <th>/repos/preferences:{\"post\":\"HnQDYfizZ_CrRiIbC0c8YVa2FD62Dl7jGyA2owPnlXlcv1kmivi7TPmsdU-S6YDqnHUOw-6haSJ0oSBH3R6JmQ\"}}}</th>\n",
       "      <th>title:\"Fraud_Detection_ML/Data/fraudTest.csv at dev · jeanbrandao01/Fraud_Detection_ML\"}</th>\n",
       "    </tr>\n",
       "  </thead>\n",
       "  <tbody>\n",
       "  </tbody>\n",
       "</table>\n",
       "<p>0 rows × 134 columns</p>\n",
       "</div>"
      ],
      "text/plain": [
       "Empty DataFrame\n",
       "Columns: [{\"payload\":{\"allShortcutsEnabled\":false, fileTree:{\"Data\":{\"items\":[{\"name\":\".gitattributes\", path:\"Data/.gitattributes\", contentType:\"file\"}, {\"name\":\".gitkeep\", path:\"Data/.gitkeep\", contentType:\"file\"}.1, {\"name\":\"fraudTest.csv\", path:\"Data/fraudTest.csv\", contentType:\"file\"}.2, {\"name\":\"fraudTrain.csv\", path:\"Data/fraudTrain.csv\", contentType:\"file\"}], totalCount:4}, :{\"items\":[{\"name\":\"Data\", path:\"Data\", contentType:\"directory\"}, {\"name\":\"Models\", path:\"Models\", contentType:\"directory\"}.1, {\"name\":\"Notebooks\", path:\"Notebooks\", contentType:\"directory\"}.2, {\"name\":\"Scripts\", path:\"Scripts\", contentType:\"directory\"}.3, {\"name\":\"Readme.md\", path:\"Readme.md\", contentType:\"file\"}].1, totalCount:5}}, fileTreeProcessingTime:6.755899, foldersToFetch:[], reducedMotionEnabled:null, repo:{\"id\":704266067, defaultBranch:\"main\", name:\"Fraud_Detection_ML\", ownerLogin:\"jeanbrandao01\", currentUserCanPush:false, isFork:false, isEmpty:false, createdAt:\"2023-10-12T22:41:54.000Z\", ownerAvatar:\"https://avatars.githubusercontent.com/u/141344599?v=4\", public:true, private:false, isOrgOwned:false}, symbolsExpanded:false, treeExpanded:true, refInfo:{\"name\":\"dev\", listCacheKey:\"v0:1697154486.0\", canEdit:false, refType:\"branch\", currentOid:\"8c9e74af465253515443a4243f9b0a2af5256f1b\"}, path:\"Data/fraudTest.csv\".1, currentUser:null, blob:{\"rawLines\":null, stylingDirectives:[[], [], []], csv:null, csvError:null, dependabotInfo:{\"showConfigurationBanner\":false, configFilePath:null, networkDependabotPath:\"/jeanbrandao01/Fraud_Detection_ML/network/updates\", dismissConfigurationNoticePath:\"/settings/dismiss-notice/dependabot_configuration_notice\", configurationNoticeDismissed:null, repoAlertsPath:\"/jeanbrandao01/Fraud_Detection_ML/security/dependabot\", repoSecurityAndAnalysisPath:\"/jeanbrandao01/Fraud_Detection_ML/settings/security_analysis\", repoOwnerIsOrg:false, currentUserCanAdminRepo:false}, displayName:\"fraudTest.csv\", displayUrl:\"https://media.githubusercontent.com/media/jeanbrandao01/Fraud_Detection_ML/dev/Data/fraudTest.csv\", headerInfo:{\"blobSize\":\"143 MB\", deleteInfo:{\"deleteTooltip\":\"You must be signed in to make or propose changes\"}, editInfo:{\"editTooltip\":\"You must be signed in to make or propose changes\"}, ghDesktopPath:\"https://desktop.github.com\", gitLfsPath:\"https://docs.github.com/articles/versioning-large-files/\", onBranch:true, shortPath:\"69f6ade\", siteNavLoginPath:\"/login?return_to=https%3A%2F%2Fgithub.com%2Fjeanbrandao01%2FFraud_Detection_ML%2Fblob%2Fdev%2FData%2FfraudTest.csv\", isCSV:false, isRichtext:false, toc:null, lineInfo:{\"truncatedLoc\":null, truncatedSloc:null}, mode:\"file\"}, image:false, isCodeownersFile:null, isPlain:false, isValidLegacyIssueTemplate:false, issueTemplateHelpUrl:\"https://docs.github.com/articles/about-issue-and-pull-request-templates\", issueTemplate:null, discussionTemplate:null, language:\"CSV\", languageID:51, large:true, loggedIn:false, newDiscussionPath:\"/jeanbrandao01/Fraud_Detection_ML/discussions/new\", newIssuePath:\"/jeanbrandao01/Fraud_Detection_ML/issues/new\", planSupportInfo:{\"repoIsFork\":null, repoOwnedByCurrentUser:null, ...]\n",
       "Index: []\n",
       "\n",
       "[0 rows x 134 columns]"
      ]
     },
     "execution_count": 8,
     "metadata": {},
     "output_type": "execute_result"
    }
   ],
   "source": [
    "df.head()"
   ]
  }
 ],
 "metadata": {
  "kernelspec": {
   "display_name": "Python 3",
   "language": "python",
   "name": "python3"
  },
  "language_info": {
   "codemirror_mode": {
    "name": "ipython",
    "version": 3
   },
   "file_extension": ".py",
   "mimetype": "text/x-python",
   "name": "python",
   "nbconvert_exporter": "python",
   "pygments_lexer": "ipython3",
   "version": "3.12.0"
  }
 },
 "nbformat": 4,
 "nbformat_minor": 2
}
